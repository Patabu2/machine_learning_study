{
 "cells": [
  {
   "cell_type": "markdown",
   "metadata": {},
   "source": [
    "# Model Evaluation and Improvement\n",
    "\n",
    "In this chapter two new concepts are introduced:\n",
    "* Cross-validation \n",
    "* Grid search\n",
    "\n",
    "##### Index:\n",
    "* Cross-Validation\n",
    "    * Stratified Cross-Validation\n",
    "    * Leave-One-Out Cross-Validation\n",
    "    * Shuffle-Split Cross-Validation\n",
    "    * Cross-Validation with groups\n",
    "* Grid Search\n",
    "    * Simple Grid Search\n",
    "    * The Danger of Overfitting the Parameters and the Validation Set\n",
    "    * Grid Search with Cross-Validation\n",
    "* Evaluation Metrics and Scoring\n",
    "    * Metrics for Binary Classification\n",
    "    * Metrics for Multiclass Classification\n",
    "    * Regression Metrics\n",
    "    * Using Evaluation Metrics in Model Selection"
   ]
  },
  {
   "cell_type": "code",
   "execution_count": 1,
   "metadata": {},
   "outputs": [],
   "source": [
    "import pandas as pd\n",
    "import numpy as np\n",
    "import mglearn\n",
    "import IPython.display\n",
    "import matplotlib.pyplot as plt\n",
    "import warnings\n",
    "from sklearn.model_selection import train_test_split\n",
    "warnings.filterwarnings(\"ignore\")\n",
    "\n",
    "%matplotlib inline"
   ]
  },
  {
   "cell_type": "markdown",
   "metadata": {},
   "source": [
    "# Cross-Validation\n",
    "\n",
    "A way to test generalization that is more robust than just splitting into training and test sets.\n",
    "\n",
    "In Cross-Validation the data is splitted and trained repeatedly. \n",
    "\n",
    "\n",
    "The most famous one is the k-fold validation. The data is splitted into a set number of folds and then the first fold is used for testing and the rest for training, then the second and so on. \n",
    "\n",
    "In the end we have several accuracy values."
   ]
  },
  {
   "cell_type": "code",
   "execution_count": 2,
   "metadata": {},
   "outputs": [
    {
     "data": {
      "image/png": "[encoded data removed]",
      "text/plain": [
       "<Figure size 864x144 with 1 Axes>"
      ]
     },
     "metadata": {
      "needs_background": "light"
     },
     "output_type": "display_data"
    }
   ],
   "source": [
    "mglearn.plots.plot_cross_validation()"
   ]
  },
  {
   "cell_type": "markdown",
   "metadata": {},
   "source": [
    "We apply cross validation with cross_val_score"
   ]
  },
  {
   "cell_type": "code",
   "execution_count": 3,
   "metadata": {},
   "outputs": [
    {
     "name": "stdout",
     "output_type": "stream",
     "text": [
      "Cross-validation scores: [0.96078431 0.92156863 0.95833333]\n"
     ]
    }
   ],
   "source": [
    "from sklearn.model_selection import cross_val_score\n",
    "from sklearn.datasets import load_iris\n",
    "from sklearn.linear_model import LogisticRegression\n",
    "\n",
    "iris = load_iris()\n",
    "logreg = LogisticRegression()\n",
    "\n",
    "scores = cross_val_score(logreg, iris['data'], iris['target'])\n",
    "print(\"Cross-validation scores: {}\".format(scores))"
   ]
  },
  {
   "cell_type": "markdown",
   "metadata": {},
   "source": [
    "It returned the score of three folds as a default, but we can change that with cv parameter."
   ]
  },
  {
   "cell_type": "code",
   "execution_count": 4,
   "metadata": {},
   "outputs": [
    {
     "name": "stdout",
     "output_type": "stream",
     "text": [
      "Cross-validation scores: [1.         0.96666667 0.93333333 0.9        1.        ]\n"
     ]
    }
   ],
   "source": [
    "scores = cross_val_score(logreg, iris['data'], iris['target'], cv = 5)\n",
    "print(\"Cross-validation scores: {}\".format(scores))"
   ]
  },
  {
   "cell_type": "markdown",
   "metadata": {},
   "source": [
    "Computing the mean is an easy way to summarize the results for cross-validation"
   ]
  },
  {
   "cell_type": "code",
   "execution_count": 5,
   "metadata": {},
   "outputs": [
    {
     "name": "stdout",
     "output_type": "stream",
     "text": [
      "Average cross-validation score: 0.96\n"
     ]
    }
   ],
   "source": [
    "print(\"Average cross-validation score: {:.2f}\".format(scores.mean()))"
   ]
  },
  {
   "cell_type": "markdown",
   "metadata": {},
   "source": [
    "Another option for doing cross-validation is the cross_validate method"
   ]
  },
  {
   "cell_type": "code",
   "execution_count": 6,
   "metadata": {},
   "outputs": [
    {
     "data": {
      "text/plain": [
       "{'fit_time': array([0.        , 0.        , 0.        , 0.00398684, 0.        ]),\n",
       " 'score_time': array([0., 0., 0., 0., 0.]),\n",
       " 'test_score': array([1.        , 0.96666667, 0.93333333, 0.9       , 1.        ]),\n",
       " 'train_score': array([0.95      , 0.96666667, 0.96666667, 0.975     , 0.95833333])}"
      ]
     },
     "metadata": {},
     "output_type": "display_data"
    }
   ],
   "source": [
    "from sklearn.model_selection import cross_validate\n",
    "res = cross_validate(logreg, iris.data, iris.target, cv=5,\n",
    "                     return_train_score=True)\n",
    "display(res)"
   ]
  },
  {
   "cell_type": "code",
   "execution_count": 7,
   "metadata": {},
   "outputs": [
    {
     "data": {
      "text/html": [
       "<div>\n",
       "<style scoped>\n",
       "    .dataframe tbody tr th:only-of-type {\n",
       "        vertical-align: middle;\n",
       "    }\n",
       "\n",
       "    .dataframe tbody tr th {\n",
       "        vertical-align: top;\n",
       "    }\n",
       "\n",
       "    .dataframe thead th {\n",
       "        text-align: right;\n",
       "    }\n",
       "</style>\n",
       "<table border=\"1\" class=\"dataframe\">\n",
       "  <thead>\n",
       "    <tr style=\"text-align: right;\">\n",
       "      <th></th>\n",
       "      <th>fit_time</th>\n",
       "      <th>score_time</th>\n",
       "      <th>test_score</th>\n",
       "      <th>train_score</th>\n",
       "    </tr>\n",
       "  </thead>\n",
       "  <tbody>\n",
       "    <tr>\n",
       "      <th>0</th>\n",
       "      <td>0.000000</td>\n",
       "      <td>0.0</td>\n",
       "      <td>1.000000</td>\n",
       "      <td>0.950000</td>\n",
       "    </tr>\n",
       "    <tr>\n",
       "      <th>1</th>\n",
       "      <td>0.000000</td>\n",
       "      <td>0.0</td>\n",
       "      <td>0.966667</td>\n",
       "      <td>0.966667</td>\n",
       "    </tr>\n",
       "    <tr>\n",
       "      <th>2</th>\n",
       "      <td>0.000000</td>\n",
       "      <td>0.0</td>\n",
       "      <td>0.933333</td>\n",
       "      <td>0.966667</td>\n",
       "    </tr>\n",
       "    <tr>\n",
       "      <th>3</th>\n",
       "      <td>0.003987</td>\n",
       "      <td>0.0</td>\n",
       "      <td>0.900000</td>\n",
       "      <td>0.975000</td>\n",
       "    </tr>\n",
       "    <tr>\n",
       "      <th>4</th>\n",
       "      <td>0.000000</td>\n",
       "      <td>0.0</td>\n",
       "      <td>1.000000</td>\n",
       "      <td>0.958333</td>\n",
       "    </tr>\n",
       "  </tbody>\n",
       "</table>\n",
       "</div>"
      ],
      "text/plain": [
       "   fit_time  score_time  test_score  train_score\n",
       "0  0.000000         0.0    1.000000     0.950000\n",
       "1  0.000000         0.0    0.966667     0.966667\n",
       "2  0.000000         0.0    0.933333     0.966667\n",
       "3  0.003987         0.0    0.900000     0.975000\n",
       "4  0.000000         0.0    1.000000     0.958333"
      ]
     },
     "metadata": {},
     "output_type": "display_data"
    },
    {
     "name": "stdout",
     "output_type": "stream",
     "text": [
      "Mean times and scores:\n",
      " fit_time       0.000797\n",
      "score_time     0.000000\n",
      "test_score     0.960000\n",
      "train_score    0.963333\n",
      "dtype: float64\n"
     ]
    }
   ],
   "source": [
    "# With pandas we can display everything nicely\n",
    "res_df = pd.DataFrame(res)\n",
    "display(res_df)\n",
    "print(\"Mean times and scores:\\n\", res_df.mean())"
   ]
  },
  {
   "cell_type": "markdown",
   "metadata": {},
   "source": [
    "##### Benefits of Cross- Validation\n",
    "\n",
    "If we only do a train_test_split we might get good or bad luck by having certain elements in the train set. With cross-validation this is solved.\n",
    "\n",
    "The purpose of cross-validation is not to build a model, but to evaluate how well a given algorithm will generalize when trained on a specific dataset."
   ]
  },
  {
   "cell_type": "markdown",
   "metadata": {},
   "source": [
    "## Stratified cross-validation\n",
    "\n",
    "While doing classification it is better to use stratified cross-validation in order to avoid stuff like having only one class in a single fold.\n",
    "\n",
    "If 90% of the data belongs to A and 10% to B, then the resulting folds will have 90% A and 10%B as well."
   ]
  },
  {
   "cell_type": "code",
   "execution_count": 8,
   "metadata": {},
   "outputs": [
    {
     "data": {
      "image/png": "[encoded data removed]",
      "text/plain": [
       "<Figure size 864x360 with 2 Axes>"
      ]
     },
     "metadata": {
      "needs_background": "light"
     },
     "output_type": "display_data"
    }
   ],
   "source": [
    "mglearn.plots.plot_stratified_cross_validation()"
   ]
  },
  {
   "cell_type": "markdown",
   "metadata": {},
   "source": [
    "We can get more control on the cross-validation with KFold class"
   ]
  },
  {
   "cell_type": "code",
   "execution_count": 9,
   "metadata": {},
   "outputs": [],
   "source": [
    "from sklearn.model_selection import KFold\n",
    "kfold = KFold(n_splits=5)"
   ]
  },
  {
   "cell_type": "code",
   "execution_count": 10,
   "metadata": {},
   "outputs": [
    {
     "name": "stdout",
     "output_type": "stream",
     "text": [
      "Cross-validation scores:\n",
      "[1.         0.93333333 0.43333333 0.96666667 0.43333333]\n"
     ]
    }
   ],
   "source": [
    "print(\"Cross-validation scores:\\n{}\".format(\n",
    "      cross_val_score(logreg, iris.data, iris.target, cv=kfold)))"
   ]
  },
  {
   "cell_type": "code",
   "execution_count": 11,
   "metadata": {},
   "outputs": [
    {
     "name": "stdout",
     "output_type": "stream",
     "text": [
      "Cross-validation scores:\n",
      "[0. 0. 0.]\n"
     ]
    }
   ],
   "source": [
    "kfold = KFold(n_splits=3)\n",
    "print(\"Cross-validation scores:\\n{}\".format(\n",
    "    cross_val_score(logreg, iris.data, iris.target, cv=kfold)))"
   ]
  },
  {
   "cell_type": "markdown",
   "metadata": {},
   "source": [
    "Insted of stratifying we could shuffle the dataset so there are no folds with only a single class by using KFold class."
   ]
  },
  {
   "cell_type": "code",
   "execution_count": 12,
   "metadata": {},
   "outputs": [
    {
     "name": "stdout",
     "output_type": "stream",
     "text": [
      "Cross-validation scores:\n",
      "[0.9  0.96 0.96]\n"
     ]
    }
   ],
   "source": [
    "kfold = KFold(n_splits=3, shuffle=True, random_state=0)\n",
    "print(\"Cross-validation scores:\\n{}\".format(\n",
    "    cross_val_score(logreg, iris.data, iris.target, cv=kfold)))"
   ]
  },
  {
   "cell_type": "markdown",
   "metadata": {},
   "source": [
    "## Leave-One-Out Cross-Validation\n",
    "\n",
    "You split the data into folds and use a single datapoint for testing the model.\n",
    "\n",
    "It can provide good estimates on small datasets"
   ]
  },
  {
   "cell_type": "code",
   "execution_count": 13,
   "metadata": {},
   "outputs": [
    {
     "name": "stdout",
     "output_type": "stream",
     "text": [
      "Number of cv iterations:  150\n",
      "Mean accuracy: 0.95\n"
     ]
    }
   ],
   "source": [
    "from sklearn.model_selection import LeaveOneOut\n",
    "loo = LeaveOneOut()\n",
    "scores = cross_val_score(logreg, iris.data, iris.target, cv=loo)\n",
    "print(\"Number of cv iterations: \", len(scores))\n",
    "print(\"Mean accuracy: {:.2f}\".format(scores.mean()))"
   ]
  },
  {
   "cell_type": "markdown",
   "metadata": {},
   "source": [
    "## Shuffle-Split Cross-Validation\n",
    "\n",
    "It splits the data into a specified number of folds, then it trains train_size many points and tests on test_size many points and the splitting is repeated n_split times."
   ]
  },
  {
   "cell_type": "code",
   "execution_count": 14,
   "metadata": {},
   "outputs": [
    {
     "data": {
      "image/png": "[encoded data removed]",
      "text/plain": [
       "<Figure size 720x144 with 1 Axes>"
      ]
     },
     "metadata": {
      "needs_background": "light"
     },
     "output_type": "display_data"
    }
   ],
   "source": [
    "mglearn.plots.plot_shuffle_split()"
   ]
  },
  {
   "cell_type": "code",
   "execution_count": 15,
   "metadata": {},
   "outputs": [
    {
     "name": "stdout",
     "output_type": "stream",
     "text": [
      "Cross-validation scores:\n",
      "[0.96       0.93333333 0.97333333 0.97333333 0.92       0.96\n",
      " 0.88       0.90666667 0.93333333 0.89333333]\n"
     ]
    }
   ],
   "source": [
    "from sklearn.model_selection import ShuffleSplit\n",
    "shuffle_split = ShuffleSplit(test_size=.5, train_size=.5, n_splits=10)\n",
    "scores = cross_val_score(logreg, iris.data, iris.target, cv=shuffle_split)\n",
    "print(\"Cross-validation scores:\\n{}\".format(scores))"
   ]
  },
  {
   "cell_type": "markdown",
   "metadata": {},
   "source": [
    "#### Note:\n",
    "There is a classification variant called StratifiedShuffleSplit"
   ]
  },
  {
   "cell_type": "markdown",
   "metadata": {},
   "source": [
    "## Cross-Validation with groups\n",
    "\n",
    "If you have points of related data, like datapoints corresponding to the same patient in a medical situation, one might like to prevent all the training set belonging to the same person.\n",
    "\n",
    "That is where this comes in handy. By tagging the groups as in the example below, the algorithm will perform cross-validation.\n",
    "\n",
    "In the example, each gorup is either entirely on the test set or entirely on the training set. But there is not a single group on the training set."
   ]
  },
  {
   "cell_type": "code",
   "execution_count": 16,
   "metadata": {},
   "outputs": [
    {
     "data": {
      "image/png": "[encoded data removed]",
      "text/plain": [
       "<Figure size 720x144 with 1 Axes>"
      ]
     },
     "metadata": {
      "needs_background": "light"
     },
     "output_type": "display_data"
    }
   ],
   "source": [
    "mglearn.plots.plot_group_kfold()"
   ]
  },
  {
   "cell_type": "code",
   "execution_count": 17,
   "metadata": {},
   "outputs": [
    {
     "name": "stdout",
     "output_type": "stream",
     "text": [
      "Cross-validation scores:\n",
      "[0.75       0.8        0.66666667]\n"
     ]
    }
   ],
   "source": [
    "from sklearn.model_selection import GroupKFold\n",
    "from sklearn.datasets import make_blobs\n",
    "# create synthetic dataset\n",
    "X, y = make_blobs(n_samples=12, random_state=0)\n",
    "# assume the first three samples belong to the same group,\n",
    "# then the next four, etc.\n",
    "groups = [0, 0, 0, 1, 1, 1, 1, 2, 2, 3, 3, 3]\n",
    "scores = cross_val_score(logreg, X, y, groups, cv=GroupKFold(n_splits=3))\n",
    "print(\"Cross-validation scores:\\n{}\".format(scores))"
   ]
  },
  {
   "cell_type": "markdown",
   "metadata": {},
   "source": [
    "### Note\n",
    "There are more cross-validation techniques in scikit-learn but the ones shown above are the most common ones"
   ]
  },
  {
   "cell_type": "markdown",
   "metadata": {},
   "source": [
    "# Grid Search\n",
    "\n",
    "Grid Search is a method to search for the best parameters, which consists on trying all the possible combinations of of the parameters of interest."
   ]
  },
  {
   "cell_type": "markdown",
   "metadata": {},
   "source": [
    "## Simple Grid Search\n",
    "\n",
    "We can implement a Grid Search by simple running for loops and training a model for each iteration"
   ]
  },
  {
   "cell_type": "code",
   "execution_count": 18,
   "metadata": {},
   "outputs": [
    {
     "name": "stdout",
     "output_type": "stream",
     "text": [
      "Size of training set: 112   size of test set: 38\n",
      "Best score: 0.97\n",
      "Best parameters: {'C': 100, 'gamma': 0.001}\n"
     ]
    }
   ],
   "source": [
    "# naive grid search implementation\n",
    "from sklearn.svm import SVC\n",
    "X_train, X_test, y_train, y_test = train_test_split(\n",
    "    iris.data, iris.target, random_state=0)\n",
    "print(\"Size of training set: {}   size of test set: {}\".format(\n",
    "      X_train.shape[0], X_test.shape[0]))\n",
    "\n",
    "best_score = 0\n",
    "\n",
    "for gamma in [0.001, 0.01, 0.1, 1, 10, 100]:\n",
    "    for C in [0.001, 0.01, 0.1, 1, 10, 100]:\n",
    "        # for each combination of parameters, train an SVC\n",
    "        svm = SVC(gamma=gamma, C=C)\n",
    "        svm.fit(X_train, y_train)\n",
    "        # evaluate the SVC on the test set\n",
    "        score = svm.score(X_test, y_test)\n",
    "        # if we got a better score, store the score and parameters\n",
    "        if score > best_score:\n",
    "            best_score = score\n",
    "            best_parameters = {'C': C, 'gamma': gamma}\n",
    "\n",
    "print(\"Best score: {:.2f}\".format(best_score))\n",
    "print(\"Best parameters: {}\".format(best_parameters))"
   ]
  },
  {
   "cell_type": "markdown",
   "metadata": {},
   "source": [
    "This time we selected the best parameters based on their performance on the test set, but this might be dangerous because the purpose of separating training and test is to have test be totally new data to the model.\n",
    "\n",
    "To solve this we create another separation: The validation set. After finding the best parameters using the validation set, we can now train a new model by using both, the train and the validation data\n",
    "\n",
    "#### NOTE:\n",
    "ONLY USE TEST SETS FOR THE FINAL EVALUATION"
   ]
  },
  {
   "cell_type": "code",
   "execution_count": 19,
   "metadata": {},
   "outputs": [
    {
     "data": {
      "image/png": "[encoded data removed]",
      "text/plain": [
       "<Figure size 1080x72 with 1 Axes>"
      ]
     },
     "metadata": {
      "needs_background": "light"
     },
     "output_type": "display_data"
    }
   ],
   "source": [
    "mglearn.plots.plot_threefold_split()"
   ]
  },
  {
   "cell_type": "code",
   "execution_count": 20,
   "metadata": {},
   "outputs": [
    {
     "name": "stdout",
     "output_type": "stream",
     "text": [
      "Size of training set: 84   size of validation set: 28   size of test set: 38\n",
      "\n",
      "Best score on validation set: 0.96\n",
      "Best parameters:  {'C': 10, 'gamma': 0.001}\n",
      "Test set score with best parameters: 0.92\n"
     ]
    }
   ],
   "source": [
    "from sklearn.svm import SVC\n",
    "# split data into train+validation set and test set\n",
    "X_trainval, X_test, y_trainval, y_test = train_test_split(\n",
    "    iris.data, iris.target, random_state=0)\n",
    "# split train+validation set into training and validation sets\n",
    "X_train, X_valid, y_train, y_valid = train_test_split(\n",
    "    X_trainval, y_trainval, random_state=1)\n",
    "print(\"Size of training set: {}   size of validation set: {}   size of test set:\"\n",
    "      \" {}\\n\".format(X_train.shape[0], X_valid.shape[0], X_test.shape[0]))\n",
    "\n",
    "best_score = 0\n",
    "\n",
    "for gamma in [0.001, 0.01, 0.1, 1, 10, 100]:\n",
    "    for C in [0.001, 0.01, 0.1, 1, 10, 100]:\n",
    "        # for each combination of parameters, train an SVC\n",
    "        svm = SVC(gamma=gamma, C=C)\n",
    "        svm.fit(X_train, y_train)\n",
    "        # evaluate the SVC on the validation set\n",
    "        score = svm.score(X_valid, y_valid)\n",
    "        # if we got a better score, store the score and parameters\n",
    "        if score > best_score:\n",
    "            best_score = score\n",
    "            best_parameters = {'C': C, 'gamma': gamma}\n",
    "\n",
    "# rebuild a model on the combined training and validation set,\n",
    "# and evaluate it on the test set\n",
    "svm = SVC(**best_parameters)\n",
    "svm.fit(X_trainval, y_trainval)\n",
    "test_score = svm.score(X_test, y_test)\n",
    "print(\"Best score on validation set: {:.2f}\".format(best_score))\n",
    "print(\"Best parameters: \", best_parameters)\n",
    "print(\"Test set score with best parameters: {:.2f}\".format(test_score))"
   ]
  },
  {
   "cell_type": "markdown",
   "metadata": {},
   "source": [
    "## Grid Search with Cross-Validation\n",
    "\n",
    "For a better estimation of generalization performance, instead of just splitting into train, validation and test, we could use cross-validation.\n",
    "\n",
    "This basically means that we take the best mean score after the cross-validation with each combination of parameters.\n",
    "\n",
    "The method can be coded up as follows:"
   ]
  },
  {
   "cell_type": "code",
   "execution_count": 21,
   "metadata": {},
   "outputs": [
    {
     "data": {
      "text/plain": [
       "SVC(C=100, cache_size=200, class_weight=None, coef0=0.0,\n",
       "  decision_function_shape='ovr', degree=3, gamma=0.01, kernel='rbf',\n",
       "  max_iter=-1, probability=False, random_state=None, shrinking=True,\n",
       "  tol=0.001, verbose=False)"
      ]
     },
     "execution_count": 21,
     "metadata": {},
     "output_type": "execute_result"
    }
   ],
   "source": [
    "for gamma in [0.001, 0.01, 0.1, 1, 10, 100]:\n",
    "    for C in [0.001, 0.01, 0.1, 1, 10, 100]:\n",
    "        # for each combination of parameters,\n",
    "        # train an SVC\n",
    "        svm = SVC(gamma=gamma, C=C)\n",
    "        # perform cross-validation\n",
    "        scores = cross_val_score(svm, X_trainval, y_trainval, cv=5)\n",
    "        # compute mean cross-validation accuracy\n",
    "        score = np.mean(scores)\n",
    "        # if we got a better score, store the score and parameters\n",
    "        if score > best_score:\n",
    "            best_score = score\n",
    "            best_parameters = {'C': C, 'gamma': gamma}\n",
    "# rebuild a model on the combined training and validation set\n",
    "svm = SVC(**best_parameters)\n",
    "svm.fit(X_trainval, y_trainval)"
   ]
  },
  {
   "cell_type": "markdown",
   "metadata": {},
   "source": [
    "For each parameter combination, 5 accuracy values are computed and then the mean of them is calculated."
   ]
  },
  {
   "cell_type": "code",
   "execution_count": 22,
   "metadata": {},
   "outputs": [
    {
     "data": {
      "image/png": "[encoded data removed]",
      "text/plain": [
       "<Figure size 720x216 with 1 Axes>"
      ]
     },
     "metadata": {
      "needs_background": "light"
     },
     "output_type": "display_data"
    }
   ],
   "source": [
    "mglearn.plots.plot_cross_val_selection()"
   ]
  },
  {
   "cell_type": "markdown",
   "metadata": {},
   "source": [
    "The overall process of splitting the data, running the grid search, and evaluating the final parameters:"
   ]
  },
  {
   "cell_type": "code",
   "execution_count": 23,
   "metadata": {},
   "outputs": [
    {
     "data": {
      "image/png": "[encoded data removed]",
      "text/plain": [
       "<Figure size 700x210 with 1 Axes>"
      ]
     },
     "metadata": {
      "needs_background": "light"
     },
     "output_type": "display_data"
    }
   ],
   "source": [
    "mglearn.plots.plot_grid_search_overview()"
   ]
  },
  {
   "cell_type": "markdown",
   "metadata": {},
   "source": [
    "Scikit-learn has the calss GridSearchCV to perform grid search with cross-validation.\n",
    "\n",
    "To use it we need to first build a dictionary with the desired parameters to test."
   ]
  },
  {
   "cell_type": "code",
   "execution_count": 24,
   "metadata": {},
   "outputs": [
    {
     "name": "stdout",
     "output_type": "stream",
     "text": [
      "Parameter grid:\n",
      "{'C': [0.001, 0.01, 0.1, 1, 10, 100], 'gamma': [0.001, 0.01, 0.1, 1, 10, 100]}\n"
     ]
    }
   ],
   "source": [
    "param_grid = {'C': [0.001, 0.01, 0.1, 1, 10, 100],\n",
    "              'gamma': [0.001, 0.01, 0.1, 1, 10, 100]}\n",
    "print(\"Parameter grid:\\n{}\".format(param_grid))"
   ]
  },
  {
   "cell_type": "code",
   "execution_count": 25,
   "metadata": {},
   "outputs": [],
   "source": [
    "from sklearn.model_selection import GridSearchCV\n",
    "from sklearn.svm import SVC\n",
    "grid_search = GridSearchCV(SVC(), param_grid, cv=5,\n",
    "                          return_train_score=True)\n",
    "\n",
    "\n"
   ]
  },
  {
   "cell_type": "code",
   "execution_count": 26,
   "metadata": {},
   "outputs": [
    {
     "data": {
      "text/plain": [
       "GridSearchCV(cv=5, error_score='raise-deprecating',\n",
       "       estimator=SVC(C=1.0, cache_size=200, class_weight=None, coef0=0.0,\n",
       "  decision_function_shape='ovr', degree=3, gamma='auto_deprecated',\n",
       "  kernel='rbf', max_iter=-1, probability=False, random_state=None,\n",
       "  shrinking=True, tol=0.001, verbose=False),\n",
       "       fit_params=None, iid='warn', n_jobs=None,\n",
       "       param_grid={'C': [0.001, 0.01, 0.1, 1, 10, 100], 'gamma': [0.001, 0.01, 0.1, 1, 10, 100]},\n",
       "       pre_dispatch='2*n_jobs', refit=True, return_train_score=True,\n",
       "       scoring=None, verbose=0)"
      ]
     },
     "execution_count": 26,
     "metadata": {},
     "output_type": "execute_result"
    }
   ],
   "source": [
    "X_train, X_test, y_train, y_test = train_test_split(\n",
    "    iris.data, iris.target, random_state=0)\n",
    "\n",
    "\n",
    "grid_search.fit(X_train, y_train)"
   ]
  },
  {
   "cell_type": "markdown",
   "metadata": {},
   "source": [
    "The GridsSearchCV also trains the model with the best parameters found, so we can use it to score the model."
   ]
  },
  {
   "cell_type": "code",
   "execution_count": 27,
   "metadata": {},
   "outputs": [
    {
     "name": "stdout",
     "output_type": "stream",
     "text": [
      "Test set score: 0.97\n"
     ]
    }
   ],
   "source": [
    "print(\"Test set score: {:.2f}\".format(grid_search.score(X_test, y_test)))"
   ]
  },
  {
   "cell_type": "markdown",
   "metadata": {},
   "source": [
    "The best parameters and the best cross-validation accuracy can be accessed as follows"
   ]
  },
  {
   "cell_type": "code",
   "execution_count": 28,
   "metadata": {},
   "outputs": [
    {
     "name": "stdout",
     "output_type": "stream",
     "text": [
      "Best parameters: {'C': 100, 'gamma': 0.01}\n",
      "Best cross-validation score: 0.97\n"
     ]
    }
   ],
   "source": [
    "print(\"Best parameters: {}\".format(grid_search.best_params_))\n",
    "print(\"Best cross-validation score: {:.2f}\".format(grid_search.best_score_))"
   ]
  },
  {
   "cell_type": "markdown",
   "metadata": {},
   "source": [
    "We cann access the actual best model with the best_estimator_ attribute."
   ]
  },
  {
   "cell_type": "code",
   "execution_count": 29,
   "metadata": {},
   "outputs": [
    {
     "name": "stdout",
     "output_type": "stream",
     "text": [
      "Best estimator:\n",
      "SVC(C=100, cache_size=200, class_weight=None, coef0=0.0,\n",
      "  decision_function_shape='ovr', degree=3, gamma=0.01, kernel='rbf',\n",
      "  max_iter=-1, probability=False, random_state=None, shrinking=True,\n",
      "  tol=0.001, verbose=False)\n"
     ]
    }
   ],
   "source": [
    "print(\"Best estimator:\\n{}\".format(grid_search.best_estimator_))"
   ]
  },
  {
   "cell_type": "markdown",
   "metadata": {},
   "source": [
    "### Analyzing the result of cross-validation\n",
    "\n",
    "We can visualize the results of a grid search with the cv_results_attribute and transforming it into a pandas DataFrame.\n",
    "\n",
    "Each row corresponds to a particular parameter setting."
   ]
  },
  {
   "cell_type": "code",
   "execution_count": 30,
   "metadata": {},
   "outputs": [
    {
     "data": {
      "text/html": [
       "<div>\n",
       "<style scoped>\n",
       "    .dataframe tbody tr th:only-of-type {\n",
       "        vertical-align: middle;\n",
       "    }\n",
       "\n",
       "    .dataframe tbody tr th {\n",
       "        vertical-align: top;\n",
       "    }\n",
       "\n",
       "    .dataframe thead th {\n",
       "        text-align: right;\n",
       "    }\n",
       "</style>\n",
       "<table border=\"1\" class=\"dataframe\">\n",
       "  <thead>\n",
       "    <tr style=\"text-align: right;\">\n",
       "      <th></th>\n",
       "      <th>mean_fit_time</th>\n",
       "      <th>std_fit_time</th>\n",
       "      <th>mean_score_time</th>\n",
       "      <th>std_score_time</th>\n",
       "      <th>param_C</th>\n",
       "      <th>param_gamma</th>\n",
       "      <th>params</th>\n",
       "      <th>split0_test_score</th>\n",
       "      <th>split1_test_score</th>\n",
       "      <th>split2_test_score</th>\n",
       "      <th>...</th>\n",
       "      <th>mean_test_score</th>\n",
       "      <th>std_test_score</th>\n",
       "      <th>rank_test_score</th>\n",
       "      <th>split0_train_score</th>\n",
       "      <th>split1_train_score</th>\n",
       "      <th>split2_train_score</th>\n",
       "      <th>split3_train_score</th>\n",
       "      <th>split4_train_score</th>\n",
       "      <th>mean_train_score</th>\n",
       "      <th>std_train_score</th>\n",
       "    </tr>\n",
       "  </thead>\n",
       "  <tbody>\n",
       "    <tr>\n",
       "      <th>0</th>\n",
       "      <td>0.000792</td>\n",
       "      <td>0.001583</td>\n",
       "      <td>0.0</td>\n",
       "      <td>0.0</td>\n",
       "      <td>0.001</td>\n",
       "      <td>0.001</td>\n",
       "      <td>{'C': 0.001, 'gamma': 0.001}</td>\n",
       "      <td>0.375</td>\n",
       "      <td>0.347826</td>\n",
       "      <td>0.363636</td>\n",
       "      <td>...</td>\n",
       "      <td>0.366071</td>\n",
       "      <td>0.011371</td>\n",
       "      <td>22</td>\n",
       "      <td>0.363636</td>\n",
       "      <td>0.370787</td>\n",
       "      <td>0.366667</td>\n",
       "      <td>0.366667</td>\n",
       "      <td>0.362637</td>\n",
       "      <td>0.366079</td>\n",
       "      <td>0.002852</td>\n",
       "    </tr>\n",
       "    <tr>\n",
       "      <th>1</th>\n",
       "      <td>0.000800</td>\n",
       "      <td>0.001601</td>\n",
       "      <td>0.0</td>\n",
       "      <td>0.0</td>\n",
       "      <td>0.001</td>\n",
       "      <td>0.01</td>\n",
       "      <td>{'C': 0.001, 'gamma': 0.01}</td>\n",
       "      <td>0.375</td>\n",
       "      <td>0.347826</td>\n",
       "      <td>0.363636</td>\n",
       "      <td>...</td>\n",
       "      <td>0.366071</td>\n",
       "      <td>0.011371</td>\n",
       "      <td>22</td>\n",
       "      <td>0.363636</td>\n",
       "      <td>0.370787</td>\n",
       "      <td>0.366667</td>\n",
       "      <td>0.366667</td>\n",
       "      <td>0.362637</td>\n",
       "      <td>0.366079</td>\n",
       "      <td>0.002852</td>\n",
       "    </tr>\n",
       "    <tr>\n",
       "      <th>2</th>\n",
       "      <td>0.000000</td>\n",
       "      <td>0.000000</td>\n",
       "      <td>0.0</td>\n",
       "      <td>0.0</td>\n",
       "      <td>0.001</td>\n",
       "      <td>0.1</td>\n",
       "      <td>{'C': 0.001, 'gamma': 0.1}</td>\n",
       "      <td>0.375</td>\n",
       "      <td>0.347826</td>\n",
       "      <td>0.363636</td>\n",
       "      <td>...</td>\n",
       "      <td>0.366071</td>\n",
       "      <td>0.011371</td>\n",
       "      <td>22</td>\n",
       "      <td>0.363636</td>\n",
       "      <td>0.370787</td>\n",
       "      <td>0.366667</td>\n",
       "      <td>0.366667</td>\n",
       "      <td>0.362637</td>\n",
       "      <td>0.366079</td>\n",
       "      <td>0.002852</td>\n",
       "    </tr>\n",
       "    <tr>\n",
       "      <th>3</th>\n",
       "      <td>0.002400</td>\n",
       "      <td>0.001960</td>\n",
       "      <td>0.0</td>\n",
       "      <td>0.0</td>\n",
       "      <td>0.001</td>\n",
       "      <td>1</td>\n",
       "      <td>{'C': 0.001, 'gamma': 1}</td>\n",
       "      <td>0.375</td>\n",
       "      <td>0.347826</td>\n",
       "      <td>0.363636</td>\n",
       "      <td>...</td>\n",
       "      <td>0.366071</td>\n",
       "      <td>0.011371</td>\n",
       "      <td>22</td>\n",
       "      <td>0.363636</td>\n",
       "      <td>0.370787</td>\n",
       "      <td>0.366667</td>\n",
       "      <td>0.366667</td>\n",
       "      <td>0.362637</td>\n",
       "      <td>0.366079</td>\n",
       "      <td>0.002852</td>\n",
       "    </tr>\n",
       "    <tr>\n",
       "      <th>4</th>\n",
       "      <td>0.000000</td>\n",
       "      <td>0.000000</td>\n",
       "      <td>0.0</td>\n",
       "      <td>0.0</td>\n",
       "      <td>0.001</td>\n",
       "      <td>10</td>\n",
       "      <td>{'C': 0.001, 'gamma': 10}</td>\n",
       "      <td>0.375</td>\n",
       "      <td>0.347826</td>\n",
       "      <td>0.363636</td>\n",
       "      <td>...</td>\n",
       "      <td>0.366071</td>\n",
       "      <td>0.011371</td>\n",
       "      <td>22</td>\n",
       "      <td>0.363636</td>\n",
       "      <td>0.370787</td>\n",
       "      <td>0.366667</td>\n",
       "      <td>0.366667</td>\n",
       "      <td>0.362637</td>\n",
       "      <td>0.366079</td>\n",
       "      <td>0.002852</td>\n",
       "    </tr>\n",
       "  </tbody>\n",
       "</table>\n",
       "<p>5 rows × 22 columns</p>\n",
       "</div>"
      ],
      "text/plain": [
       "   mean_fit_time  std_fit_time  mean_score_time  std_score_time param_C  \\\n",
       "0       0.000792      0.001583              0.0             0.0   0.001   \n",
       "1       0.000800      0.001601              0.0             0.0   0.001   \n",
       "2       0.000000      0.000000              0.0             0.0   0.001   \n",
       "3       0.002400      0.001960              0.0             0.0   0.001   \n",
       "4       0.000000      0.000000              0.0             0.0   0.001   \n",
       "\n",
       "  param_gamma                        params  split0_test_score  \\\n",
       "0       0.001  {'C': 0.001, 'gamma': 0.001}              0.375   \n",
       "1        0.01   {'C': 0.001, 'gamma': 0.01}              0.375   \n",
       "2         0.1    {'C': 0.001, 'gamma': 0.1}              0.375   \n",
       "3           1      {'C': 0.001, 'gamma': 1}              0.375   \n",
       "4          10     {'C': 0.001, 'gamma': 10}              0.375   \n",
       "\n",
       "   split1_test_score  split2_test_score       ...         mean_test_score  \\\n",
       "0           0.347826           0.363636       ...                0.366071   \n",
       "1           0.347826           0.363636       ...                0.366071   \n",
       "2           0.347826           0.363636       ...                0.366071   \n",
       "3           0.347826           0.363636       ...                0.366071   \n",
       "4           0.347826           0.363636       ...                0.366071   \n",
       "\n",
       "   std_test_score  rank_test_score  split0_train_score  split1_train_score  \\\n",
       "0        0.011371               22            0.363636            0.370787   \n",
       "1        0.011371               22            0.363636            0.370787   \n",
       "2        0.011371               22            0.363636            0.370787   \n",
       "3        0.011371               22            0.363636            0.370787   \n",
       "4        0.011371               22            0.363636            0.370787   \n",
       "\n",
       "   split2_train_score  split3_train_score  split4_train_score  \\\n",
       "0            0.366667            0.366667            0.362637   \n",
       "1            0.366667            0.366667            0.362637   \n",
       "2            0.366667            0.366667            0.362637   \n",
       "3            0.366667            0.366667            0.362637   \n",
       "4            0.366667            0.366667            0.362637   \n",
       "\n",
       "   mean_train_score  std_train_score  \n",
       "0          0.366079         0.002852  \n",
       "1          0.366079         0.002852  \n",
       "2          0.366079         0.002852  \n",
       "3          0.366079         0.002852  \n",
       "4          0.366079         0.002852  \n",
       "\n",
       "[5 rows x 22 columns]"
      ]
     },
     "metadata": {},
     "output_type": "display_data"
    }
   ],
   "source": [
    "import pandas as pd\n",
    "# convert to Dataframe\n",
    "results = pd.DataFrame(grid_search.cv_results_)\n",
    "# show the first 5 rows\n",
    "display(results.head())"
   ]
  },
  {
   "cell_type": "markdown",
   "metadata": {},
   "source": [
    "We can also visualize the scores with a heatmap when there are only two parameters to tune."
   ]
  },
  {
   "cell_type": "code",
   "execution_count": 31,
   "metadata": {},
   "outputs": [
    {
     "data": {
      "image/png": "[encoded data removed]",
      "text/plain": [
       "<Figure size 1008x576 with 1 Axes>"
      ]
     },
     "metadata": {
      "needs_background": "light"
     },
     "output_type": "display_data"
    }
   ],
   "source": [
    "scores = np.array(results[\"mean_test_score\"]).reshape(6, 6)\n",
    "\n",
    "# plot the mean cross-validation scores\n",
    "plt.figure(figsize = (14,8))\n",
    "mglearn.tools.heatmap(scores, xlabel='gamma', xticklabels=param_grid['gamma'],\n",
    "                      ylabel='C', yticklabels=param_grid['C'], cmap=\"viridis\")\n",
    "plt.show()"
   ]
  },
  {
   "cell_type": "markdown",
   "metadata": {},
   "source": [
    "Now we can visualize a case in which the plot is not that ideal. The first panel shows no changes, caused by the improper scaling and range of the parameters.\n",
    "\n",
    "In the second case, as there are only vertical groups, it seems like only gamma matters.\n",
    "\n",
    "In the third one, as the optimum parameter is in the corner, we can expect more parameters to be beyond that."
   ]
  },
  {
   "cell_type": "code",
   "execution_count": 32,
   "metadata": {},
   "outputs": [
    {
     "data": {
      "image/png": "[encoded data removed]",
      "text/plain": [
       "<Figure size 1296x360 with 4 Axes>"
      ]
     },
     "metadata": {
      "needs_background": "light"
     },
     "output_type": "display_data"
    }
   ],
   "source": [
    "fig, axes = plt.subplots(1, 3, figsize=(18, 5))\n",
    "\n",
    "param_grid_linear = {'C': np.linspace(1, 2, 6),\n",
    "                     'gamma':  np.linspace(1, 2, 6)}\n",
    "\n",
    "param_grid_one_log = {'C': np.linspace(1, 2, 6),\n",
    "                      'gamma':  np.logspace(-3, 2, 6)}\n",
    "\n",
    "param_grid_range = {'C': np.logspace(-3, 2, 6),\n",
    "                    'gamma':  np.logspace(-7, -2, 6)}\n",
    "\n",
    "for param_grid, ax in zip([param_grid_linear, param_grid_one_log,\n",
    "                           param_grid_range], axes):\n",
    "    grid_search = GridSearchCV(SVC(), param_grid, cv=5)\n",
    "    grid_search.fit(X_train, y_train)\n",
    "    scores = grid_search.cv_results_['mean_test_score'].reshape(6, 6)\n",
    "\n",
    "    # plot the mean cross-validation scores\n",
    "    scores_image = mglearn.tools.heatmap(\n",
    "        scores, xlabel='gamma', ylabel='C', xticklabels=param_grid['gamma'],\n",
    "        yticklabels=param_grid['C'], cmap=\"viridis\", ax=ax)\n",
    "\n",
    "plt.colorbar(scores_image, ax=axes.tolist())\n",
    "plt.show()"
   ]
  },
  {
   "cell_type": "markdown",
   "metadata": {},
   "source": [
    "### Search over spaces that are not grids\n",
    "\n",
    "It is possible to build a param_grid with a list of dictionaries instead of a single dictionary. This allows for more flexibility while testing the parameters on a Search Grid."
   ]
  },
  {
   "cell_type": "code",
   "execution_count": 33,
   "metadata": {},
   "outputs": [
    {
     "name": "stdout",
     "output_type": "stream",
     "text": [
      "List of grids:\n",
      "[{'kernel': ['rbf'], 'C': [0.001, 0.01, 0.1, 1, 10, 100], 'gamma': [0.001, 0.01, 0.1, 1, 10, 100]}, {'kernel': ['linear'], 'C': [0.001, 0.01, 0.1, 1, 10, 100]}]\n"
     ]
    }
   ],
   "source": [
    "param_grid = [{'kernel': ['rbf'],\n",
    "               'C': [0.001, 0.01, 0.1, 1, 10, 100],\n",
    "               'gamma': [0.001, 0.01, 0.1, 1, 10, 100]},\n",
    "              {'kernel': ['linear'],\n",
    "               'C': [0.001, 0.01, 0.1, 1, 10, 100]}]\n",
    "print(\"List of grids:\\n{}\".format(param_grid))"
   ]
  },
  {
   "cell_type": "code",
   "execution_count": 34,
   "metadata": {},
   "outputs": [
    {
     "name": "stdout",
     "output_type": "stream",
     "text": [
      "Best parameters: {'C': 100, 'gamma': 0.01, 'kernel': 'rbf'}\n",
      "Best cross-validation score: 0.97\n"
     ]
    }
   ],
   "source": [
    "grid_search = GridSearchCV(SVC(), param_grid, cv=5,\n",
    "                          return_train_score=True)\n",
    "grid_search.fit(X_train, y_train)\n",
    "print(\"Best parameters: {}\".format(grid_search.best_params_))\n",
    "print(\"Best cross-validation score: {:.2f}\".format(grid_search.best_score_))"
   ]
  },
  {
   "cell_type": "code",
   "execution_count": 35,
   "metadata": {},
   "outputs": [
    {
     "data": {
      "text/html": [
       "<div>\n",
       "<style scoped>\n",
       "    .dataframe tbody tr th:only-of-type {\n",
       "        vertical-align: middle;\n",
       "    }\n",
       "\n",
       "    .dataframe tbody tr th {\n",
       "        vertical-align: top;\n",
       "    }\n",
       "\n",
       "    .dataframe thead th {\n",
       "        text-align: right;\n",
       "    }\n",
       "</style>\n",
       "<table border=\"1\" class=\"dataframe\">\n",
       "  <thead>\n",
       "    <tr style=\"text-align: right;\">\n",
       "      <th></th>\n",
       "      <th>0</th>\n",
       "      <th>1</th>\n",
       "      <th>2</th>\n",
       "      <th>3</th>\n",
       "      <th>4</th>\n",
       "      <th>5</th>\n",
       "      <th>6</th>\n",
       "      <th>7</th>\n",
       "      <th>8</th>\n",
       "      <th>9</th>\n",
       "      <th>...</th>\n",
       "      <th>32</th>\n",
       "      <th>33</th>\n",
       "      <th>34</th>\n",
       "      <th>35</th>\n",
       "      <th>36</th>\n",
       "      <th>37</th>\n",
       "      <th>38</th>\n",
       "      <th>39</th>\n",
       "      <th>40</th>\n",
       "      <th>41</th>\n",
       "    </tr>\n",
       "  </thead>\n",
       "  <tbody>\n",
       "    <tr>\n",
       "      <th>mean_fit_time</th>\n",
       "      <td>0.000799751</td>\n",
       "      <td>0</td>\n",
       "      <td>0.00160017</td>\n",
       "      <td>0.000806189</td>\n",
       "      <td>0</td>\n",
       "      <td>0.000807762</td>\n",
       "      <td>0.00159974</td>\n",
       "      <td>0.000799894</td>\n",
       "      <td>0</td>\n",
       "      <td>0.000800467</td>\n",
       "      <td>...</td>\n",
       "      <td>0</td>\n",
       "      <td>0</td>\n",
       "      <td>0.000800037</td>\n",
       "      <td>0.000801134</td>\n",
       "      <td>0.000800085</td>\n",
       "      <td>0</td>\n",
       "      <td>0</td>\n",
       "      <td>0.000799894</td>\n",
       "      <td>0</td>\n",
       "      <td>0.000800085</td>\n",
       "    </tr>\n",
       "    <tr>\n",
       "      <th>std_fit_time</th>\n",
       "      <td>0.0015995</td>\n",
       "      <td>0</td>\n",
       "      <td>0.0019598</td>\n",
       "      <td>0.00161238</td>\n",
       "      <td>0</td>\n",
       "      <td>0.00161552</td>\n",
       "      <td>0.00195933</td>\n",
       "      <td>0.00159979</td>\n",
       "      <td>0</td>\n",
       "      <td>0.00160093</td>\n",
       "      <td>...</td>\n",
       "      <td>0</td>\n",
       "      <td>0</td>\n",
       "      <td>0.00160007</td>\n",
       "      <td>0.00160227</td>\n",
       "      <td>0.00160017</td>\n",
       "      <td>0</td>\n",
       "      <td>0</td>\n",
       "      <td>0.00159979</td>\n",
       "      <td>0</td>\n",
       "      <td>0.00160017</td>\n",
       "    </tr>\n",
       "    <tr>\n",
       "      <th>mean_score_time</th>\n",
       "      <td>0</td>\n",
       "      <td>0</td>\n",
       "      <td>0</td>\n",
       "      <td>0.000798893</td>\n",
       "      <td>0.00159535</td>\n",
       "      <td>0</td>\n",
       "      <td>0</td>\n",
       "      <td>0</td>\n",
       "      <td>0</td>\n",
       "      <td>0</td>\n",
       "      <td>...</td>\n",
       "      <td>0</td>\n",
       "      <td>0.000799751</td>\n",
       "      <td>0.000799942</td>\n",
       "      <td>0.000798798</td>\n",
       "      <td>0</td>\n",
       "      <td>0</td>\n",
       "      <td>0.000800943</td>\n",
       "      <td>0</td>\n",
       "      <td>0</td>\n",
       "      <td>0</td>\n",
       "    </tr>\n",
       "    <tr>\n",
       "      <th>std_score_time</th>\n",
       "      <td>0</td>\n",
       "      <td>0</td>\n",
       "      <td>0</td>\n",
       "      <td>0.00159779</td>\n",
       "      <td>0.0019539</td>\n",
       "      <td>0</td>\n",
       "      <td>0</td>\n",
       "      <td>0</td>\n",
       "      <td>0</td>\n",
       "      <td>0</td>\n",
       "      <td>...</td>\n",
       "      <td>0</td>\n",
       "      <td>0.0015995</td>\n",
       "      <td>0.00159988</td>\n",
       "      <td>0.0015976</td>\n",
       "      <td>0</td>\n",
       "      <td>0</td>\n",
       "      <td>0.00160189</td>\n",
       "      <td>0</td>\n",
       "      <td>0</td>\n",
       "      <td>0</td>\n",
       "    </tr>\n",
       "    <tr>\n",
       "      <th>param_C</th>\n",
       "      <td>0.001</td>\n",
       "      <td>0.001</td>\n",
       "      <td>0.001</td>\n",
       "      <td>0.001</td>\n",
       "      <td>0.001</td>\n",
       "      <td>0.001</td>\n",
       "      <td>0.01</td>\n",
       "      <td>0.01</td>\n",
       "      <td>0.01</td>\n",
       "      <td>0.01</td>\n",
       "      <td>...</td>\n",
       "      <td>100</td>\n",
       "      <td>100</td>\n",
       "      <td>100</td>\n",
       "      <td>100</td>\n",
       "      <td>0.001</td>\n",
       "      <td>0.01</td>\n",
       "      <td>0.1</td>\n",
       "      <td>1</td>\n",
       "      <td>10</td>\n",
       "      <td>100</td>\n",
       "    </tr>\n",
       "    <tr>\n",
       "      <th>param_gamma</th>\n",
       "      <td>0.001</td>\n",
       "      <td>0.01</td>\n",
       "      <td>0.1</td>\n",
       "      <td>1</td>\n",
       "      <td>10</td>\n",
       "      <td>100</td>\n",
       "      <td>0.001</td>\n",
       "      <td>0.01</td>\n",
       "      <td>0.1</td>\n",
       "      <td>1</td>\n",
       "      <td>...</td>\n",
       "      <td>0.1</td>\n",
       "      <td>1</td>\n",
       "      <td>10</td>\n",
       "      <td>100</td>\n",
       "      <td>NaN</td>\n",
       "      <td>NaN</td>\n",
       "      <td>NaN</td>\n",
       "      <td>NaN</td>\n",
       "      <td>NaN</td>\n",
       "      <td>NaN</td>\n",
       "    </tr>\n",
       "    <tr>\n",
       "      <th>param_kernel</th>\n",
       "      <td>rbf</td>\n",
       "      <td>rbf</td>\n",
       "      <td>rbf</td>\n",
       "      <td>rbf</td>\n",
       "      <td>rbf</td>\n",
       "      <td>rbf</td>\n",
       "      <td>rbf</td>\n",
       "      <td>rbf</td>\n",
       "      <td>rbf</td>\n",
       "      <td>rbf</td>\n",
       "      <td>...</td>\n",
       "      <td>rbf</td>\n",
       "      <td>rbf</td>\n",
       "      <td>rbf</td>\n",
       "      <td>rbf</td>\n",
       "      <td>linear</td>\n",
       "      <td>linear</td>\n",
       "      <td>linear</td>\n",
       "      <td>linear</td>\n",
       "      <td>linear</td>\n",
       "      <td>linear</td>\n",
       "    </tr>\n",
       "    <tr>\n",
       "      <th>params</th>\n",
       "      <td>{'C': 0.001, 'gamma': 0.001, 'kernel': 'rbf'}</td>\n",
       "      <td>{'C': 0.001, 'gamma': 0.01, 'kernel': 'rbf'}</td>\n",
       "      <td>{'C': 0.001, 'gamma': 0.1, 'kernel': 'rbf'}</td>\n",
       "      <td>{'C': 0.001, 'gamma': 1, 'kernel': 'rbf'}</td>\n",
       "      <td>{'C': 0.001, 'gamma': 10, 'kernel': 'rbf'}</td>\n",
       "      <td>{'C': 0.001, 'gamma': 100, 'kernel': 'rbf'}</td>\n",
       "      <td>{'C': 0.01, 'gamma': 0.001, 'kernel': 'rbf'}</td>\n",
       "      <td>{'C': 0.01, 'gamma': 0.01, 'kernel': 'rbf'}</td>\n",
       "      <td>{'C': 0.01, 'gamma': 0.1, 'kernel': 'rbf'}</td>\n",
       "      <td>{'C': 0.01, 'gamma': 1, 'kernel': 'rbf'}</td>\n",
       "      <td>...</td>\n",
       "      <td>{'C': 100, 'gamma': 0.1, 'kernel': 'rbf'}</td>\n",
       "      <td>{'C': 100, 'gamma': 1, 'kernel': 'rbf'}</td>\n",
       "      <td>{'C': 100, 'gamma': 10, 'kernel': 'rbf'}</td>\n",
       "      <td>{'C': 100, 'gamma': 100, 'kernel': 'rbf'}</td>\n",
       "      <td>{'C': 0.001, 'kernel': 'linear'}</td>\n",
       "      <td>{'C': 0.01, 'kernel': 'linear'}</td>\n",
       "      <td>{'C': 0.1, 'kernel': 'linear'}</td>\n",
       "      <td>{'C': 1, 'kernel': 'linear'}</td>\n",
       "      <td>{'C': 10, 'kernel': 'linear'}</td>\n",
       "      <td>{'C': 100, 'kernel': 'linear'}</td>\n",
       "    </tr>\n",
       "    <tr>\n",
       "      <th>split0_test_score</th>\n",
       "      <td>0.375</td>\n",
       "      <td>0.375</td>\n",
       "      <td>0.375</td>\n",
       "      <td>0.375</td>\n",
       "      <td>0.375</td>\n",
       "      <td>0.375</td>\n",
       "      <td>0.375</td>\n",
       "      <td>0.375</td>\n",
       "      <td>0.375</td>\n",
       "      <td>0.375</td>\n",
       "      <td>...</td>\n",
       "      <td>0.958333</td>\n",
       "      <td>0.916667</td>\n",
       "      <td>0.875</td>\n",
       "      <td>0.541667</td>\n",
       "      <td>0.375</td>\n",
       "      <td>0.916667</td>\n",
       "      <td>0.958333</td>\n",
       "      <td>1</td>\n",
       "      <td>0.958333</td>\n",
       "      <td>0.958333</td>\n",
       "    </tr>\n",
       "    <tr>\n",
       "      <th>split1_test_score</th>\n",
       "      <td>0.347826</td>\n",
       "      <td>0.347826</td>\n",
       "      <td>0.347826</td>\n",
       "      <td>0.347826</td>\n",
       "      <td>0.347826</td>\n",
       "      <td>0.347826</td>\n",
       "      <td>0.347826</td>\n",
       "      <td>0.347826</td>\n",
       "      <td>0.347826</td>\n",
       "      <td>0.347826</td>\n",
       "      <td>...</td>\n",
       "      <td>1</td>\n",
       "      <td>1</td>\n",
       "      <td>0.956522</td>\n",
       "      <td>0.521739</td>\n",
       "      <td>0.347826</td>\n",
       "      <td>0.826087</td>\n",
       "      <td>0.913043</td>\n",
       "      <td>0.956522</td>\n",
       "      <td>1</td>\n",
       "      <td>1</td>\n",
       "    </tr>\n",
       "    <tr>\n",
       "      <th>split2_test_score</th>\n",
       "      <td>0.363636</td>\n",
       "      <td>0.363636</td>\n",
       "      <td>0.363636</td>\n",
       "      <td>0.363636</td>\n",
       "      <td>0.363636</td>\n",
       "      <td>0.363636</td>\n",
       "      <td>0.363636</td>\n",
       "      <td>0.363636</td>\n",
       "      <td>0.363636</td>\n",
       "      <td>0.363636</td>\n",
       "      <td>...</td>\n",
       "      <td>1</td>\n",
       "      <td>1</td>\n",
       "      <td>1</td>\n",
       "      <td>0.590909</td>\n",
       "      <td>0.363636</td>\n",
       "      <td>0.818182</td>\n",
       "      <td>1</td>\n",
       "      <td>1</td>\n",
       "      <td>1</td>\n",
       "      <td>1</td>\n",
       "    </tr>\n",
       "    <tr>\n",
       "      <th>split3_test_score</th>\n",
       "      <td>0.363636</td>\n",
       "      <td>0.363636</td>\n",
       "      <td>0.363636</td>\n",
       "      <td>0.363636</td>\n",
       "      <td>0.363636</td>\n",
       "      <td>0.363636</td>\n",
       "      <td>0.363636</td>\n",
       "      <td>0.363636</td>\n",
       "      <td>0.363636</td>\n",
       "      <td>0.363636</td>\n",
       "      <td>...</td>\n",
       "      <td>0.863636</td>\n",
       "      <td>0.863636</td>\n",
       "      <td>0.818182</td>\n",
       "      <td>0.590909</td>\n",
       "      <td>0.363636</td>\n",
       "      <td>0.772727</td>\n",
       "      <td>0.909091</td>\n",
       "      <td>0.954545</td>\n",
       "      <td>0.909091</td>\n",
       "      <td>0.909091</td>\n",
       "    </tr>\n",
       "    <tr>\n",
       "      <th>split4_test_score</th>\n",
       "      <td>0.380952</td>\n",
       "      <td>0.380952</td>\n",
       "      <td>0.380952</td>\n",
       "      <td>0.380952</td>\n",
       "      <td>0.380952</td>\n",
       "      <td>0.380952</td>\n",
       "      <td>0.380952</td>\n",
       "      <td>0.380952</td>\n",
       "      <td>0.380952</td>\n",
       "      <td>0.380952</td>\n",
       "      <td>...</td>\n",
       "      <td>0.952381</td>\n",
       "      <td>0.952381</td>\n",
       "      <td>0.952381</td>\n",
       "      <td>0.619048</td>\n",
       "      <td>0.380952</td>\n",
       "      <td>0.904762</td>\n",
       "      <td>0.952381</td>\n",
       "      <td>0.952381</td>\n",
       "      <td>0.952381</td>\n",
       "      <td>0.952381</td>\n",
       "    </tr>\n",
       "    <tr>\n",
       "      <th>mean_test_score</th>\n",
       "      <td>0.366071</td>\n",
       "      <td>0.366071</td>\n",
       "      <td>0.366071</td>\n",
       "      <td>0.366071</td>\n",
       "      <td>0.366071</td>\n",
       "      <td>0.366071</td>\n",
       "      <td>0.366071</td>\n",
       "      <td>0.366071</td>\n",
       "      <td>0.366071</td>\n",
       "      <td>0.366071</td>\n",
       "      <td>...</td>\n",
       "      <td>0.955357</td>\n",
       "      <td>0.946429</td>\n",
       "      <td>0.919643</td>\n",
       "      <td>0.571429</td>\n",
       "      <td>0.366071</td>\n",
       "      <td>0.848214</td>\n",
       "      <td>0.946429</td>\n",
       "      <td>0.973214</td>\n",
       "      <td>0.964286</td>\n",
       "      <td>0.964286</td>\n",
       "    </tr>\n",
       "    <tr>\n",
       "      <th>std_test_score</th>\n",
       "      <td>0.0113708</td>\n",
       "      <td>0.0113708</td>\n",
       "      <td>0.0113708</td>\n",
       "      <td>0.0113708</td>\n",
       "      <td>0.0113708</td>\n",
       "      <td>0.0113708</td>\n",
       "      <td>0.0113708</td>\n",
       "      <td>0.0113708</td>\n",
       "      <td>0.0113708</td>\n",
       "      <td>0.0113708</td>\n",
       "      <td>...</td>\n",
       "      <td>0.0495662</td>\n",
       "      <td>0.0519227</td>\n",
       "      <td>0.0647906</td>\n",
       "      <td>0.0356525</td>\n",
       "      <td>0.0113708</td>\n",
       "      <td>0.0547783</td>\n",
       "      <td>0.0332185</td>\n",
       "      <td>0.0223995</td>\n",
       "      <td>0.0338387</td>\n",
       "      <td>0.0338387</td>\n",
       "    </tr>\n",
       "    <tr>\n",
       "      <th>rank_test_score</th>\n",
       "      <td>27</td>\n",
       "      <td>27</td>\n",
       "      <td>27</td>\n",
       "      <td>27</td>\n",
       "      <td>27</td>\n",
       "      <td>27</td>\n",
       "      <td>27</td>\n",
       "      <td>27</td>\n",
       "      <td>27</td>\n",
       "      <td>27</td>\n",
       "      <td>...</td>\n",
       "      <td>9</td>\n",
       "      <td>11</td>\n",
       "      <td>17</td>\n",
       "      <td>24</td>\n",
       "      <td>27</td>\n",
       "      <td>21</td>\n",
       "      <td>11</td>\n",
       "      <td>1</td>\n",
       "      <td>3</td>\n",
       "      <td>3</td>\n",
       "    </tr>\n",
       "    <tr>\n",
       "      <th>split0_train_score</th>\n",
       "      <td>0.363636</td>\n",
       "      <td>0.363636</td>\n",
       "      <td>0.363636</td>\n",
       "      <td>0.363636</td>\n",
       "      <td>0.363636</td>\n",
       "      <td>0.363636</td>\n",
       "      <td>0.363636</td>\n",
       "      <td>0.363636</td>\n",
       "      <td>0.363636</td>\n",
       "      <td>0.363636</td>\n",
       "      <td>...</td>\n",
       "      <td>0.988636</td>\n",
       "      <td>1</td>\n",
       "      <td>1</td>\n",
       "      <td>1</td>\n",
       "      <td>0.363636</td>\n",
       "      <td>0.886364</td>\n",
       "      <td>0.965909</td>\n",
       "      <td>0.988636</td>\n",
       "      <td>0.988636</td>\n",
       "      <td>0.988636</td>\n",
       "    </tr>\n",
       "    <tr>\n",
       "      <th>split1_train_score</th>\n",
       "      <td>0.370787</td>\n",
       "      <td>0.370787</td>\n",
       "      <td>0.370787</td>\n",
       "      <td>0.370787</td>\n",
       "      <td>0.370787</td>\n",
       "      <td>0.370787</td>\n",
       "      <td>0.370787</td>\n",
       "      <td>0.370787</td>\n",
       "      <td>0.370787</td>\n",
       "      <td>0.370787</td>\n",
       "      <td>...</td>\n",
       "      <td>0.977528</td>\n",
       "      <td>1</td>\n",
       "      <td>1</td>\n",
       "      <td>1</td>\n",
       "      <td>0.370787</td>\n",
       "      <td>0.88764</td>\n",
       "      <td>0.977528</td>\n",
       "      <td>0.977528</td>\n",
       "      <td>0.988764</td>\n",
       "      <td>0.988764</td>\n",
       "    </tr>\n",
       "    <tr>\n",
       "      <th>split2_train_score</th>\n",
       "      <td>0.366667</td>\n",
       "      <td>0.366667</td>\n",
       "      <td>0.366667</td>\n",
       "      <td>0.366667</td>\n",
       "      <td>0.366667</td>\n",
       "      <td>0.366667</td>\n",
       "      <td>0.366667</td>\n",
       "      <td>0.366667</td>\n",
       "      <td>0.366667</td>\n",
       "      <td>0.366667</td>\n",
       "      <td>...</td>\n",
       "      <td>0.977778</td>\n",
       "      <td>1</td>\n",
       "      <td>1</td>\n",
       "      <td>1</td>\n",
       "      <td>0.366667</td>\n",
       "      <td>0.866667</td>\n",
       "      <td>0.944444</td>\n",
       "      <td>0.977778</td>\n",
       "      <td>0.977778</td>\n",
       "      <td>0.988889</td>\n",
       "    </tr>\n",
       "    <tr>\n",
       "      <th>split3_train_score</th>\n",
       "      <td>0.366667</td>\n",
       "      <td>0.366667</td>\n",
       "      <td>0.366667</td>\n",
       "      <td>0.366667</td>\n",
       "      <td>0.366667</td>\n",
       "      <td>0.366667</td>\n",
       "      <td>0.366667</td>\n",
       "      <td>0.366667</td>\n",
       "      <td>0.366667</td>\n",
       "      <td>0.366667</td>\n",
       "      <td>...</td>\n",
       "      <td>1</td>\n",
       "      <td>1</td>\n",
       "      <td>1</td>\n",
       "      <td>1</td>\n",
       "      <td>0.366667</td>\n",
       "      <td>0.755556</td>\n",
       "      <td>0.977778</td>\n",
       "      <td>0.988889</td>\n",
       "      <td>0.988889</td>\n",
       "      <td>1</td>\n",
       "    </tr>\n",
       "    <tr>\n",
       "      <th>split4_train_score</th>\n",
       "      <td>0.362637</td>\n",
       "      <td>0.362637</td>\n",
       "      <td>0.362637</td>\n",
       "      <td>0.362637</td>\n",
       "      <td>0.362637</td>\n",
       "      <td>0.362637</td>\n",
       "      <td>0.362637</td>\n",
       "      <td>0.362637</td>\n",
       "      <td>0.362637</td>\n",
       "      <td>0.362637</td>\n",
       "      <td>...</td>\n",
       "      <td>1</td>\n",
       "      <td>1</td>\n",
       "      <td>1</td>\n",
       "      <td>1</td>\n",
       "      <td>0.362637</td>\n",
       "      <td>0.879121</td>\n",
       "      <td>0.967033</td>\n",
       "      <td>0.989011</td>\n",
       "      <td>1</td>\n",
       "      <td>1</td>\n",
       "    </tr>\n",
       "    <tr>\n",
       "      <th>mean_train_score</th>\n",
       "      <td>0.366079</td>\n",
       "      <td>0.366079</td>\n",
       "      <td>0.366079</td>\n",
       "      <td>0.366079</td>\n",
       "      <td>0.366079</td>\n",
       "      <td>0.366079</td>\n",
       "      <td>0.366079</td>\n",
       "      <td>0.366079</td>\n",
       "      <td>0.366079</td>\n",
       "      <td>0.366079</td>\n",
       "      <td>...</td>\n",
       "      <td>0.988788</td>\n",
       "      <td>1</td>\n",
       "      <td>1</td>\n",
       "      <td>1</td>\n",
       "      <td>0.366079</td>\n",
       "      <td>0.855069</td>\n",
       "      <td>0.966538</td>\n",
       "      <td>0.984368</td>\n",
       "      <td>0.988813</td>\n",
       "      <td>0.993258</td>\n",
       "    </tr>\n",
       "    <tr>\n",
       "      <th>std_train_score</th>\n",
       "      <td>0.00285176</td>\n",
       "      <td>0.00285176</td>\n",
       "      <td>0.00285176</td>\n",
       "      <td>0.00285176</td>\n",
       "      <td>0.00285176</td>\n",
       "      <td>0.00285176</td>\n",
       "      <td>0.00285176</td>\n",
       "      <td>0.00285176</td>\n",
       "      <td>0.00285176</td>\n",
       "      <td>0.00285176</td>\n",
       "      <td>...</td>\n",
       "      <td>0.00999451</td>\n",
       "      <td>0</td>\n",
       "      <td>0</td>\n",
       "      <td>0</td>\n",
       "      <td>0.00285176</td>\n",
       "      <td>0.0503114</td>\n",
       "      <td>0.0121316</td>\n",
       "      <td>0.00548507</td>\n",
       "      <td>0.00702801</td>\n",
       "      <td>0.00550551</td>\n",
       "    </tr>\n",
       "  </tbody>\n",
       "</table>\n",
       "<p>23 rows × 42 columns</p>\n",
       "</div>"
      ],
      "text/plain": [
       "                                                               0   \\\n",
       "mean_fit_time                                         0.000799751   \n",
       "std_fit_time                                            0.0015995   \n",
       "mean_score_time                                                 0   \n",
       "std_score_time                                                  0   \n",
       "param_C                                                     0.001   \n",
       "param_gamma                                                 0.001   \n",
       "param_kernel                                                  rbf   \n",
       "params              {'C': 0.001, 'gamma': 0.001, 'kernel': 'rbf'}   \n",
       "split0_test_score                                           0.375   \n",
       "split1_test_score                                        0.347826   \n",
       "split2_test_score                                        0.363636   \n",
       "split3_test_score                                        0.363636   \n",
       "split4_test_score                                        0.380952   \n",
       "mean_test_score                                          0.366071   \n",
       "std_test_score                                          0.0113708   \n",
       "rank_test_score                                                27   \n",
       "split0_train_score                                       0.363636   \n",
       "split1_train_score                                       0.370787   \n",
       "split2_train_score                                       0.366667   \n",
       "split3_train_score                                       0.366667   \n",
       "split4_train_score                                       0.362637   \n",
       "mean_train_score                                         0.366079   \n",
       "std_train_score                                        0.00285176   \n",
       "\n",
       "                                                              1   \\\n",
       "mean_fit_time                                                  0   \n",
       "std_fit_time                                                   0   \n",
       "mean_score_time                                                0   \n",
       "std_score_time                                                 0   \n",
       "param_C                                                    0.001   \n",
       "param_gamma                                                 0.01   \n",
       "param_kernel                                                 rbf   \n",
       "params              {'C': 0.001, 'gamma': 0.01, 'kernel': 'rbf'}   \n",
       "split0_test_score                                          0.375   \n",
       "split1_test_score                                       0.347826   \n",
       "split2_test_score                                       0.363636   \n",
       "split3_test_score                                       0.363636   \n",
       "split4_test_score                                       0.380952   \n",
       "mean_test_score                                         0.366071   \n",
       "std_test_score                                         0.0113708   \n",
       "rank_test_score                                               27   \n",
       "split0_train_score                                      0.363636   \n",
       "split1_train_score                                      0.370787   \n",
       "split2_train_score                                      0.366667   \n",
       "split3_train_score                                      0.366667   \n",
       "split4_train_score                                      0.362637   \n",
       "mean_train_score                                        0.366079   \n",
       "std_train_score                                       0.00285176   \n",
       "\n",
       "                                                             2   \\\n",
       "mean_fit_time                                        0.00160017   \n",
       "std_fit_time                                          0.0019598   \n",
       "mean_score_time                                               0   \n",
       "std_score_time                                                0   \n",
       "param_C                                                   0.001   \n",
       "param_gamma                                                 0.1   \n",
       "param_kernel                                                rbf   \n",
       "params              {'C': 0.001, 'gamma': 0.1, 'kernel': 'rbf'}   \n",
       "split0_test_score                                         0.375   \n",
       "split1_test_score                                      0.347826   \n",
       "split2_test_score                                      0.363636   \n",
       "split3_test_score                                      0.363636   \n",
       "split4_test_score                                      0.380952   \n",
       "mean_test_score                                        0.366071   \n",
       "std_test_score                                        0.0113708   \n",
       "rank_test_score                                              27   \n",
       "split0_train_score                                     0.363636   \n",
       "split1_train_score                                     0.370787   \n",
       "split2_train_score                                     0.366667   \n",
       "split3_train_score                                     0.366667   \n",
       "split4_train_score                                     0.362637   \n",
       "mean_train_score                                       0.366079   \n",
       "std_train_score                                      0.00285176   \n",
       "\n",
       "                                                           3   \\\n",
       "mean_fit_time                                     0.000806189   \n",
       "std_fit_time                                       0.00161238   \n",
       "mean_score_time                                   0.000798893   \n",
       "std_score_time                                     0.00159779   \n",
       "param_C                                                 0.001   \n",
       "param_gamma                                                 1   \n",
       "param_kernel                                              rbf   \n",
       "params              {'C': 0.001, 'gamma': 1, 'kernel': 'rbf'}   \n",
       "split0_test_score                                       0.375   \n",
       "split1_test_score                                    0.347826   \n",
       "split2_test_score                                    0.363636   \n",
       "split3_test_score                                    0.363636   \n",
       "split4_test_score                                    0.380952   \n",
       "mean_test_score                                      0.366071   \n",
       "std_test_score                                      0.0113708   \n",
       "rank_test_score                                            27   \n",
       "split0_train_score                                   0.363636   \n",
       "split1_train_score                                   0.370787   \n",
       "split2_train_score                                   0.366667   \n",
       "split3_train_score                                   0.366667   \n",
       "split4_train_score                                   0.362637   \n",
       "mean_train_score                                     0.366079   \n",
       "std_train_score                                    0.00285176   \n",
       "\n",
       "                                                            4   \\\n",
       "mean_fit_time                                                0   \n",
       "std_fit_time                                                 0   \n",
       "mean_score_time                                     0.00159535   \n",
       "std_score_time                                       0.0019539   \n",
       "param_C                                                  0.001   \n",
       "param_gamma                                                 10   \n",
       "param_kernel                                               rbf   \n",
       "params              {'C': 0.001, 'gamma': 10, 'kernel': 'rbf'}   \n",
       "split0_test_score                                        0.375   \n",
       "split1_test_score                                     0.347826   \n",
       "split2_test_score                                     0.363636   \n",
       "split3_test_score                                     0.363636   \n",
       "split4_test_score                                     0.380952   \n",
       "mean_test_score                                       0.366071   \n",
       "std_test_score                                       0.0113708   \n",
       "rank_test_score                                             27   \n",
       "split0_train_score                                    0.363636   \n",
       "split1_train_score                                    0.370787   \n",
       "split2_train_score                                    0.366667   \n",
       "split3_train_score                                    0.366667   \n",
       "split4_train_score                                    0.362637   \n",
       "mean_train_score                                      0.366079   \n",
       "std_train_score                                     0.00285176   \n",
       "\n",
       "                                                             5   \\\n",
       "mean_fit_time                                       0.000807762   \n",
       "std_fit_time                                         0.00161552   \n",
       "mean_score_time                                               0   \n",
       "std_score_time                                                0   \n",
       "param_C                                                   0.001   \n",
       "param_gamma                                                 100   \n",
       "param_kernel                                                rbf   \n",
       "params              {'C': 0.001, 'gamma': 100, 'kernel': 'rbf'}   \n",
       "split0_test_score                                         0.375   \n",
       "split1_test_score                                      0.347826   \n",
       "split2_test_score                                      0.363636   \n",
       "split3_test_score                                      0.363636   \n",
       "split4_test_score                                      0.380952   \n",
       "mean_test_score                                        0.366071   \n",
       "std_test_score                                        0.0113708   \n",
       "rank_test_score                                              27   \n",
       "split0_train_score                                     0.363636   \n",
       "split1_train_score                                     0.370787   \n",
       "split2_train_score                                     0.366667   \n",
       "split3_train_score                                     0.366667   \n",
       "split4_train_score                                     0.362637   \n",
       "mean_train_score                                       0.366079   \n",
       "std_train_score                                      0.00285176   \n",
       "\n",
       "                                                              6   \\\n",
       "mean_fit_time                                         0.00159974   \n",
       "std_fit_time                                          0.00195933   \n",
       "mean_score_time                                                0   \n",
       "std_score_time                                                 0   \n",
       "param_C                                                     0.01   \n",
       "param_gamma                                                0.001   \n",
       "param_kernel                                                 rbf   \n",
       "params              {'C': 0.01, 'gamma': 0.001, 'kernel': 'rbf'}   \n",
       "split0_test_score                                          0.375   \n",
       "split1_test_score                                       0.347826   \n",
       "split2_test_score                                       0.363636   \n",
       "split3_test_score                                       0.363636   \n",
       "split4_test_score                                       0.380952   \n",
       "mean_test_score                                         0.366071   \n",
       "std_test_score                                         0.0113708   \n",
       "rank_test_score                                               27   \n",
       "split0_train_score                                      0.363636   \n",
       "split1_train_score                                      0.370787   \n",
       "split2_train_score                                      0.366667   \n",
       "split3_train_score                                      0.366667   \n",
       "split4_train_score                                      0.362637   \n",
       "mean_train_score                                        0.366079   \n",
       "std_train_score                                       0.00285176   \n",
       "\n",
       "                                                             7   \\\n",
       "mean_fit_time                                       0.000799894   \n",
       "std_fit_time                                         0.00159979   \n",
       "mean_score_time                                               0   \n",
       "std_score_time                                                0   \n",
       "param_C                                                    0.01   \n",
       "param_gamma                                                0.01   \n",
       "param_kernel                                                rbf   \n",
       "params              {'C': 0.01, 'gamma': 0.01, 'kernel': 'rbf'}   \n",
       "split0_test_score                                         0.375   \n",
       "split1_test_score                                      0.347826   \n",
       "split2_test_score                                      0.363636   \n",
       "split3_test_score                                      0.363636   \n",
       "split4_test_score                                      0.380952   \n",
       "mean_test_score                                        0.366071   \n",
       "std_test_score                                        0.0113708   \n",
       "rank_test_score                                              27   \n",
       "split0_train_score                                     0.363636   \n",
       "split1_train_score                                     0.370787   \n",
       "split2_train_score                                     0.366667   \n",
       "split3_train_score                                     0.366667   \n",
       "split4_train_score                                     0.362637   \n",
       "mean_train_score                                       0.366079   \n",
       "std_train_score                                      0.00285176   \n",
       "\n",
       "                                                            8   \\\n",
       "mean_fit_time                                                0   \n",
       "std_fit_time                                                 0   \n",
       "mean_score_time                                              0   \n",
       "std_score_time                                               0   \n",
       "param_C                                                   0.01   \n",
       "param_gamma                                                0.1   \n",
       "param_kernel                                               rbf   \n",
       "params              {'C': 0.01, 'gamma': 0.1, 'kernel': 'rbf'}   \n",
       "split0_test_score                                        0.375   \n",
       "split1_test_score                                     0.347826   \n",
       "split2_test_score                                     0.363636   \n",
       "split3_test_score                                     0.363636   \n",
       "split4_test_score                                     0.380952   \n",
       "mean_test_score                                       0.366071   \n",
       "std_test_score                                       0.0113708   \n",
       "rank_test_score                                             27   \n",
       "split0_train_score                                    0.363636   \n",
       "split1_train_score                                    0.370787   \n",
       "split2_train_score                                    0.366667   \n",
       "split3_train_score                                    0.366667   \n",
       "split4_train_score                                    0.362637   \n",
       "mean_train_score                                      0.366079   \n",
       "std_train_score                                     0.00285176   \n",
       "\n",
       "                                                          9   \\\n",
       "mean_fit_time                                    0.000800467   \n",
       "std_fit_time                                      0.00160093   \n",
       "mean_score_time                                            0   \n",
       "std_score_time                                             0   \n",
       "param_C                                                 0.01   \n",
       "param_gamma                                                1   \n",
       "param_kernel                                             rbf   \n",
       "params              {'C': 0.01, 'gamma': 1, 'kernel': 'rbf'}   \n",
       "split0_test_score                                      0.375   \n",
       "split1_test_score                                   0.347826   \n",
       "split2_test_score                                   0.363636   \n",
       "split3_test_score                                   0.363636   \n",
       "split4_test_score                                   0.380952   \n",
       "mean_test_score                                     0.366071   \n",
       "std_test_score                                     0.0113708   \n",
       "rank_test_score                                           27   \n",
       "split0_train_score                                  0.363636   \n",
       "split1_train_score                                  0.370787   \n",
       "split2_train_score                                  0.366667   \n",
       "split3_train_score                                  0.366667   \n",
       "split4_train_score                                  0.362637   \n",
       "mean_train_score                                    0.366079   \n",
       "std_train_score                                   0.00285176   \n",
       "\n",
       "                                 ...                \\\n",
       "mean_fit_time                    ...                 \n",
       "std_fit_time                     ...                 \n",
       "mean_score_time                  ...                 \n",
       "std_score_time                   ...                 \n",
       "param_C                          ...                 \n",
       "param_gamma                      ...                 \n",
       "param_kernel                     ...                 \n",
       "params                           ...                 \n",
       "split0_test_score                ...                 \n",
       "split1_test_score                ...                 \n",
       "split2_test_score                ...                 \n",
       "split3_test_score                ...                 \n",
       "split4_test_score                ...                 \n",
       "mean_test_score                  ...                 \n",
       "std_test_score                   ...                 \n",
       "rank_test_score                  ...                 \n",
       "split0_train_score               ...                 \n",
       "split1_train_score               ...                 \n",
       "split2_train_score               ...                 \n",
       "split3_train_score               ...                 \n",
       "split4_train_score               ...                 \n",
       "mean_train_score                 ...                 \n",
       "std_train_score                  ...                 \n",
       "\n",
       "                                                           32  \\\n",
       "mean_fit_time                                               0   \n",
       "std_fit_time                                                0   \n",
       "mean_score_time                                             0   \n",
       "std_score_time                                              0   \n",
       "param_C                                                   100   \n",
       "param_gamma                                               0.1   \n",
       "param_kernel                                              rbf   \n",
       "params              {'C': 100, 'gamma': 0.1, 'kernel': 'rbf'}   \n",
       "split0_test_score                                    0.958333   \n",
       "split1_test_score                                           1   \n",
       "split2_test_score                                           1   \n",
       "split3_test_score                                    0.863636   \n",
       "split4_test_score                                    0.952381   \n",
       "mean_test_score                                      0.955357   \n",
       "std_test_score                                      0.0495662   \n",
       "rank_test_score                                             9   \n",
       "split0_train_score                                   0.988636   \n",
       "split1_train_score                                   0.977528   \n",
       "split2_train_score                                   0.977778   \n",
       "split3_train_score                                          1   \n",
       "split4_train_score                                          1   \n",
       "mean_train_score                                     0.988788   \n",
       "std_train_score                                    0.00999451   \n",
       "\n",
       "                                                         33  \\\n",
       "mean_fit_time                                             0   \n",
       "std_fit_time                                              0   \n",
       "mean_score_time                                 0.000799751   \n",
       "std_score_time                                    0.0015995   \n",
       "param_C                                                 100   \n",
       "param_gamma                                               1   \n",
       "param_kernel                                            rbf   \n",
       "params              {'C': 100, 'gamma': 1, 'kernel': 'rbf'}   \n",
       "split0_test_score                                  0.916667   \n",
       "split1_test_score                                         1   \n",
       "split2_test_score                                         1   \n",
       "split3_test_score                                  0.863636   \n",
       "split4_test_score                                  0.952381   \n",
       "mean_test_score                                    0.946429   \n",
       "std_test_score                                    0.0519227   \n",
       "rank_test_score                                          11   \n",
       "split0_train_score                                        1   \n",
       "split1_train_score                                        1   \n",
       "split2_train_score                                        1   \n",
       "split3_train_score                                        1   \n",
       "split4_train_score                                        1   \n",
       "mean_train_score                                          1   \n",
       "std_train_score                                           0   \n",
       "\n",
       "                                                          34  \\\n",
       "mean_fit_time                                    0.000800037   \n",
       "std_fit_time                                      0.00160007   \n",
       "mean_score_time                                  0.000799942   \n",
       "std_score_time                                    0.00159988   \n",
       "param_C                                                  100   \n",
       "param_gamma                                               10   \n",
       "param_kernel                                             rbf   \n",
       "params              {'C': 100, 'gamma': 10, 'kernel': 'rbf'}   \n",
       "split0_test_score                                      0.875   \n",
       "split1_test_score                                   0.956522   \n",
       "split2_test_score                                          1   \n",
       "split3_test_score                                   0.818182   \n",
       "split4_test_score                                   0.952381   \n",
       "mean_test_score                                     0.919643   \n",
       "std_test_score                                     0.0647906   \n",
       "rank_test_score                                           17   \n",
       "split0_train_score                                         1   \n",
       "split1_train_score                                         1   \n",
       "split2_train_score                                         1   \n",
       "split3_train_score                                         1   \n",
       "split4_train_score                                         1   \n",
       "mean_train_score                                           1   \n",
       "std_train_score                                            0   \n",
       "\n",
       "                                                           35  \\\n",
       "mean_fit_time                                     0.000801134   \n",
       "std_fit_time                                       0.00160227   \n",
       "mean_score_time                                   0.000798798   \n",
       "std_score_time                                      0.0015976   \n",
       "param_C                                                   100   \n",
       "param_gamma                                               100   \n",
       "param_kernel                                              rbf   \n",
       "params              {'C': 100, 'gamma': 100, 'kernel': 'rbf'}   \n",
       "split0_test_score                                    0.541667   \n",
       "split1_test_score                                    0.521739   \n",
       "split2_test_score                                    0.590909   \n",
       "split3_test_score                                    0.590909   \n",
       "split4_test_score                                    0.619048   \n",
       "mean_test_score                                      0.571429   \n",
       "std_test_score                                      0.0356525   \n",
       "rank_test_score                                            24   \n",
       "split0_train_score                                          1   \n",
       "split1_train_score                                          1   \n",
       "split2_train_score                                          1   \n",
       "split3_train_score                                          1   \n",
       "split4_train_score                                          1   \n",
       "mean_train_score                                            1   \n",
       "std_train_score                                             0   \n",
       "\n",
       "                                                  36  \\\n",
       "mean_fit_time                            0.000800085   \n",
       "std_fit_time                              0.00160017   \n",
       "mean_score_time                                    0   \n",
       "std_score_time                                     0   \n",
       "param_C                                        0.001   \n",
       "param_gamma                                      NaN   \n",
       "param_kernel                                  linear   \n",
       "params              {'C': 0.001, 'kernel': 'linear'}   \n",
       "split0_test_score                              0.375   \n",
       "split1_test_score                           0.347826   \n",
       "split2_test_score                           0.363636   \n",
       "split3_test_score                           0.363636   \n",
       "split4_test_score                           0.380952   \n",
       "mean_test_score                             0.366071   \n",
       "std_test_score                             0.0113708   \n",
       "rank_test_score                                   27   \n",
       "split0_train_score                          0.363636   \n",
       "split1_train_score                          0.370787   \n",
       "split2_train_score                          0.366667   \n",
       "split3_train_score                          0.366667   \n",
       "split4_train_score                          0.362637   \n",
       "mean_train_score                            0.366079   \n",
       "std_train_score                           0.00285176   \n",
       "\n",
       "                                                 37  \\\n",
       "mean_fit_time                                     0   \n",
       "std_fit_time                                      0   \n",
       "mean_score_time                                   0   \n",
       "std_score_time                                    0   \n",
       "param_C                                        0.01   \n",
       "param_gamma                                     NaN   \n",
       "param_kernel                                 linear   \n",
       "params              {'C': 0.01, 'kernel': 'linear'}   \n",
       "split0_test_score                          0.916667   \n",
       "split1_test_score                          0.826087   \n",
       "split2_test_score                          0.818182   \n",
       "split3_test_score                          0.772727   \n",
       "split4_test_score                          0.904762   \n",
       "mean_test_score                            0.848214   \n",
       "std_test_score                            0.0547783   \n",
       "rank_test_score                                  21   \n",
       "split0_train_score                         0.886364   \n",
       "split1_train_score                          0.88764   \n",
       "split2_train_score                         0.866667   \n",
       "split3_train_score                         0.755556   \n",
       "split4_train_score                         0.879121   \n",
       "mean_train_score                           0.855069   \n",
       "std_train_score                           0.0503114   \n",
       "\n",
       "                                                38  \\\n",
       "mean_fit_time                                    0   \n",
       "std_fit_time                                     0   \n",
       "mean_score_time                        0.000800943   \n",
       "std_score_time                          0.00160189   \n",
       "param_C                                        0.1   \n",
       "param_gamma                                    NaN   \n",
       "param_kernel                                linear   \n",
       "params              {'C': 0.1, 'kernel': 'linear'}   \n",
       "split0_test_score                         0.958333   \n",
       "split1_test_score                         0.913043   \n",
       "split2_test_score                                1   \n",
       "split3_test_score                         0.909091   \n",
       "split4_test_score                         0.952381   \n",
       "mean_test_score                           0.946429   \n",
       "std_test_score                           0.0332185   \n",
       "rank_test_score                                 11   \n",
       "split0_train_score                        0.965909   \n",
       "split1_train_score                        0.977528   \n",
       "split2_train_score                        0.944444   \n",
       "split3_train_score                        0.977778   \n",
       "split4_train_score                        0.967033   \n",
       "mean_train_score                          0.966538   \n",
       "std_train_score                          0.0121316   \n",
       "\n",
       "                                              39  \\\n",
       "mean_fit_time                        0.000799894   \n",
       "std_fit_time                          0.00159979   \n",
       "mean_score_time                                0   \n",
       "std_score_time                                 0   \n",
       "param_C                                        1   \n",
       "param_gamma                                  NaN   \n",
       "param_kernel                              linear   \n",
       "params              {'C': 1, 'kernel': 'linear'}   \n",
       "split0_test_score                              1   \n",
       "split1_test_score                       0.956522   \n",
       "split2_test_score                              1   \n",
       "split3_test_score                       0.954545   \n",
       "split4_test_score                       0.952381   \n",
       "mean_test_score                         0.973214   \n",
       "std_test_score                         0.0223995   \n",
       "rank_test_score                                1   \n",
       "split0_train_score                      0.988636   \n",
       "split1_train_score                      0.977528   \n",
       "split2_train_score                      0.977778   \n",
       "split3_train_score                      0.988889   \n",
       "split4_train_score                      0.989011   \n",
       "mean_train_score                        0.984368   \n",
       "std_train_score                       0.00548507   \n",
       "\n",
       "                                               40  \\\n",
       "mean_fit_time                                   0   \n",
       "std_fit_time                                    0   \n",
       "mean_score_time                                 0   \n",
       "std_score_time                                  0   \n",
       "param_C                                        10   \n",
       "param_gamma                                   NaN   \n",
       "param_kernel                               linear   \n",
       "params              {'C': 10, 'kernel': 'linear'}   \n",
       "split0_test_score                        0.958333   \n",
       "split1_test_score                               1   \n",
       "split2_test_score                               1   \n",
       "split3_test_score                        0.909091   \n",
       "split4_test_score                        0.952381   \n",
       "mean_test_score                          0.964286   \n",
       "std_test_score                          0.0338387   \n",
       "rank_test_score                                 3   \n",
       "split0_train_score                       0.988636   \n",
       "split1_train_score                       0.988764   \n",
       "split2_train_score                       0.977778   \n",
       "split3_train_score                       0.988889   \n",
       "split4_train_score                              1   \n",
       "mean_train_score                         0.988813   \n",
       "std_train_score                        0.00702801   \n",
       "\n",
       "                                                41  \n",
       "mean_fit_time                          0.000800085  \n",
       "std_fit_time                            0.00160017  \n",
       "mean_score_time                                  0  \n",
       "std_score_time                                   0  \n",
       "param_C                                        100  \n",
       "param_gamma                                    NaN  \n",
       "param_kernel                                linear  \n",
       "params              {'C': 100, 'kernel': 'linear'}  \n",
       "split0_test_score                         0.958333  \n",
       "split1_test_score                                1  \n",
       "split2_test_score                                1  \n",
       "split3_test_score                         0.909091  \n",
       "split4_test_score                         0.952381  \n",
       "mean_test_score                           0.964286  \n",
       "std_test_score                           0.0338387  \n",
       "rank_test_score                                  3  \n",
       "split0_train_score                        0.988636  \n",
       "split1_train_score                        0.988764  \n",
       "split2_train_score                        0.988889  \n",
       "split3_train_score                               1  \n",
       "split4_train_score                               1  \n",
       "mean_train_score                          0.993258  \n",
       "std_train_score                         0.00550551  \n",
       "\n",
       "[23 rows x 42 columns]"
      ]
     },
     "metadata": {},
     "output_type": "display_data"
    }
   ],
   "source": [
    "results = pd.DataFrame(grid_search.cv_results_)\n",
    "# We display the transpoes table so that it better fits on the page\n",
    "display(results.T)"
   ]
  },
  {
   "cell_type": "markdown",
   "metadata": {},
   "source": [
    "### Using different cross-validation strategies with Grid Search\n",
    "\n",
    "You can pass a ShuffleSplit or a StratifiedShuffleSplit to the cv parameter in GridSearch to use different kind of splitters instead of the default ones. \n",
    "\n",
    "Using the mentioned classes with n-splits = 1 can help improve performance on large datasets or slow models, as it does the cross-validation with only one split in trianing and validation sets."
   ]
  },
  {
   "cell_type": "markdown",
   "metadata": {},
   "source": [
    "### Nested cross-validation\n",
    "\n",
    "Instead of splitting the data into training and datasets once, we can use multiple splits of cross-validation.\n",
    "\n",
    "For each of the splits a grid search is run. For implementing this, we can use cross_val_score with GridSearch as its model.\n",
    "\n",
    "The result of this is a list of scores, not a model nor a parameter setting, therefore it is not that used in practice for building a prediction model, but it can be used to see how a model works on a particular dataset."
   ]
  },
  {
   "cell_type": "code",
   "execution_count": 36,
   "metadata": {},
   "outputs": [
    {
     "name": "stdout",
     "output_type": "stream",
     "text": [
      "Cross-validation scores:  [0.96666667 1.         0.96666667 0.96666667 1.        ]\n",
      "Mean cross-validation score:  0.9800000000000001\n"
     ]
    }
   ],
   "source": [
    "param_grid = {'C': [0.001, 0.01, 0.1, 1, 10, 100],\n",
    "              'gamma': [0.001, 0.01, 0.1, 1, 10, 100]}\n",
    "scores = cross_val_score(GridSearchCV(SVC(), param_grid, cv=5),\n",
    "                         iris.data, iris.target, cv=5)\n",
    "print(\"Cross-validation scores: \", scores)\n",
    "print(\"Mean cross-validation score: \", scores.mean())"
   ]
  },
  {
   "cell_type": "markdown",
   "metadata": {},
   "source": [
    "We can also look at what the previous code is doing with for loops:"
   ]
  },
  {
   "cell_type": "code",
   "execution_count": 37,
   "metadata": {},
   "outputs": [],
   "source": [
    "def nested_cv(X, y, inner_cv, outer_cv, Classifier, parameter_grid):\n",
    "    outer_scores = []\n",
    "    # for each split of the data in the outer cross-validation\n",
    "    # (split method returns indices of training and test parts)\n",
    "    for training_samples, test_samples in outer_cv.split(X, y):\n",
    "        # find best parameter using inner cross-validation\n",
    "        best_parms = {}\n",
    "        best_score = -np.inf\n",
    "        # iterate over parameters\n",
    "        for parameters in parameter_grid:\n",
    "            # accumulate score over inner splits\n",
    "            cv_scores = []\n",
    "            # iterate over inner cross-validation\n",
    "            for inner_train, inner_test in inner_cv.split(\n",
    "                    X[training_samples], y[training_samples]):\n",
    "                # build classifier given parameters and training data\n",
    "                clf = Classifier(**parameters)\n",
    "                clf.fit(X[inner_train], y[inner_train])\n",
    "                # evaluate on inner test set\n",
    "                score = clf.score(X[inner_test], y[inner_test])\n",
    "                cv_scores.append(score)\n",
    "            # compute mean score over inner folds\n",
    "            mean_score = np.mean(cv_scores)\n",
    "            if mean_score > best_score:\n",
    "                # if better than so far, remember parameters\n",
    "                best_score = mean_score\n",
    "                best_params = parameters\n",
    "        # build classifier on best parameters using outer training set\n",
    "        clf = Classifier(**best_params)\n",
    "        clf.fit(X[training_samples], y[training_samples])\n",
    "        # evaluate\n",
    "        outer_scores.append(clf.score(X[test_samples], y[test_samples]))\n",
    "    return np.array(outer_scores)"
   ]
  },
  {
   "cell_type": "code",
   "execution_count": 38,
   "metadata": {},
   "outputs": [
    {
     "name": "stdout",
     "output_type": "stream",
     "text": [
      "Cross-validation scores: [0.96666667 1.         0.96666667 0.96666667 1.        ]\n"
     ]
    }
   ],
   "source": [
    "from sklearn.model_selection import ParameterGrid, StratifiedKFold\n",
    "scores = nested_cv(iris.data, iris.target, StratifiedKFold(5),\n",
    "                   StratifiedKFold(5), SVC, ParameterGrid(param_grid))\n",
    "print(\"Cross-validation scores: {}\".format(scores))"
   ]
  },
  {
   "cell_type": "markdown",
   "metadata": {},
   "source": [
    "### Paralellizing cross-validation and grid search\n",
    "\n",
    "As it parameter setting is independent from the others, you can train several models at the same time in different cores or different clusters. This can be achieved with the n_jobs parameter in GridSearchCV.\n",
    "\n",
    "If using large datasets I should monitor the memory if running several models at once.\n",
    "\n",
    "To distribute grid search and cross-validation through different machines in a cluster we can use the distributed computer package dask."
   ]
  },
  {
   "cell_type": "markdown",
   "metadata": {},
   "source": [
    "# Evaluation Metrics and Scoring\n",
    "\n",
    "## Keep the end goal in mind\n",
    "\n",
    "The model with the most positive influence on the business metric. This can be hard as this often means putting the model in a real-life system.\n",
    "\n",
    "As sometimes it is not possible to test the business metric, finding a suitable replacement is necessary. For example, one cannot test the ability of a car to recognize pedestrians by letting it roam freely in the streets."
   ]
  },
  {
   "cell_type": "markdown",
   "metadata": {},
   "source": [
    "## Metrics for Binary Classification\n",
    "\n",
    "### Kinds of errors\n",
    "There are false positives and false negatives.\n",
    "\n",
    "One needs to be careful with the impacts that errors in the predictions of the model will have in the real life. Assigning dollar values to the different predictions can help identify the impact of a false positive or a false negative.\n",
    "\n",
    "### Imbalanced Datasets\n",
    "\n",
    "Datasets in which one class is much more frequent than the other. For example, a datasets of clicks on adds, most datapoints will be labeled as \"non-click\", while only very little samples will have the \"clicked\" category.\n",
    "\n",
    "Imbalanced datasets are the most frequent ones out there.\n",
    "\n",
    "Building models with this could be challenging. Following the ads examples, if there are 99% percent of non-clicked labels, then just prediction all the time non-click will give a 99% accurate model.\n",
    "\n",
    "For ilustrating this the author proposes a model that tris to classify 9 from all the other digits. There are"
   ]
  },
  {
   "cell_type": "code",
   "execution_count": 39,
   "metadata": {},
   "outputs": [],
   "source": [
    "from sklearn.datasets import load_digits\n",
    "digits = load_digits()\n",
    "y = digits.target == 9\n",
    "\n",
    "X_train, X_test, y_train, y_test = train_test_split(digits[\"data\"], y, random_state = 0)"
   ]
  },
  {
   "cell_type": "markdown",
   "metadata": {},
   "source": [
    "The results of the following model are pretty uninformative, as the model only predicts one class."
   ]
  },
  {
   "cell_type": "code",
   "execution_count": 40,
   "metadata": {},
   "outputs": [
    {
     "name": "stdout",
     "output_type": "stream",
     "text": [
      "Unique predicted labels: [False]\n",
      "Test score: 0.90\n"
     ]
    }
   ],
   "source": [
    "from sklearn.dummy import DummyClassifier\n",
    "dummy_majority = DummyClassifier(strategy='most_frequent').fit(X_train, y_train)\n",
    "pred_most_frequent = dummy_majority.predict(X_test)\n",
    "print(\"Unique predicted labels: {}\".format(np.unique(pred_most_frequent)))\n",
    "print(\"Test score: {:.2f}\".format(dummy_majority.score(X_test, y_test)))"
   ]
  },
  {
   "cell_type": "markdown",
   "metadata": {},
   "source": [
    "Now let's use an actual classifier"
   ]
  },
  {
   "cell_type": "code",
   "execution_count": 41,
   "metadata": {},
   "outputs": [
    {
     "name": "stdout",
     "output_type": "stream",
     "text": [
      "Test score: 0.92\n"
     ]
    }
   ],
   "source": [
    "from sklearn.tree import DecisionTreeClassifier\n",
    "tree = DecisionTreeClassifier(max_depth=2).fit(X_train, y_train)\n",
    "pred_tree = tree.predict(X_test)\n",
    "print(\"Test score: {:.2f}\".format(tree.score(X_test, y_test)))"
   ]
  },
  {
   "cell_type": "markdown",
   "metadata": {},
   "source": [
    "The results indicate that the Decision Trees are only slightly better than the DummyClassifier. This could mean that we are using wrong the Decision trees or that the accuracy is not taht good of a measure here.\n",
    "\n",
    "\n",
    "In the following example the DummyClassifier yields random predictions but produces classes with the same proportion as on the training set.\n",
    "\n",
    "Predicting randomly actually gets a good model, with 80% accuracy."
   ]
  },
  {
   "cell_type": "code",
   "execution_count": 42,
   "metadata": {},
   "outputs": [
    {
     "name": "stdout",
     "output_type": "stream",
     "text": [
      "dummy score: 0.81\n",
      "logreg score: 0.98\n"
     ]
    }
   ],
   "source": [
    "from sklearn.linear_model import LogisticRegression\n",
    "\n",
    "dummy = DummyClassifier().fit(X_train, y_train)\n",
    "pred_dummy = dummy.predict(X_test)\n",
    "print(\"dummy score: {:.2f}\".format(dummy.score(X_test, y_test)))\n",
    "\n",
    "logreg = LogisticRegression(C=0.1).fit(X_train, y_train)\n",
    "pred_logreg = logreg.predict(X_test)\n",
    "print(\"logreg score: {:.2f}\".format(logreg.score(X_test, y_test)))"
   ]
  },
  {
   "cell_type": "markdown",
   "metadata": {},
   "source": [
    "### Confusion Matrices"
   ]
  },
  {
   "cell_type": "code",
   "execution_count": 43,
   "metadata": {
    "scrolled": true
   },
   "outputs": [
    {
     "name": "stdout",
     "output_type": "stream",
     "text": [
      "Confusion matrix:\n",
      "[[401   2]\n",
      " [  8  39]]\n"
     ]
    }
   ],
   "source": [
    "from sklearn.metrics import confusion_matrix\n",
    "\n",
    "confusion = confusion_matrix(y_test, pred_logreg)\n",
    "print(\"Confusion matrix:\\n{}\".format(confusion))"
   ]
  },
  {
   "cell_type": "markdown",
   "metadata": {},
   "source": [
    "The output is a two by two matrix, where the rows correspond to the true classes and the columns to the predicted classes. Each entry counts how often a sample that belongs to the predicted class or not.\n",
    "\n",
    "Entries on the main diagonal show correct classifications, while all the others are incorrect."
   ]
  },
  {
   "cell_type": "code",
   "execution_count": 44,
   "metadata": {},
   "outputs": [
    {
     "data": {
      "image/png": "[encoded data removed]",
      "text/plain": [
       "<Figure size 576x576 with 1 Axes>"
      ]
     },
     "metadata": {
      "needs_background": "light"
     },
     "output_type": "display_data"
    }
   ],
   "source": [
    "mglearn.plots.plot_confusion_matrix_illustration()"
   ]
  },
  {
   "cell_type": "markdown",
   "metadata": {},
   "source": [
    "With the True and False Positives and True and False Negatives abbreviations, the confusion matrix is built as follows."
   ]
  },
  {
   "cell_type": "code",
   "execution_count": 45,
   "metadata": {},
   "outputs": [
    {
     "data": {
      "image/png": "[encoded data removed]",
      "text/plain": [
       "<Figure size 432x288 with 1 Axes>"
      ]
     },
     "metadata": {
      "needs_background": "light"
     },
     "output_type": "display_data"
    }
   ],
   "source": [
    "mglearn.plots.plot_binary_confusion_matrix()"
   ]
  },
  {
   "cell_type": "markdown",
   "metadata": {},
   "source": [
    "Confusion matrix for different models."
   ]
  },
  {
   "cell_type": "code",
   "execution_count": 46,
   "metadata": {},
   "outputs": [
    {
     "name": "stdout",
     "output_type": "stream",
     "text": [
      "Most frequent class:\n",
      "[[403   0]\n",
      " [ 47   0]]\n",
      "\n",
      "Dummy model:\n",
      "[[361  42]\n",
      " [ 43   4]]\n",
      "\n",
      "Decision tree:\n",
      "[[390  13]\n",
      " [ 24  23]]\n",
      "\n",
      "Logistic Regression\n",
      "[[401   2]\n",
      " [  8  39]]\n"
     ]
    }
   ],
   "source": [
    "print(\"Most frequent class:\")\n",
    "print(confusion_matrix(y_test, pred_most_frequent))\n",
    "print(\"\\nDummy model:\")\n",
    "print(confusion_matrix(y_test, pred_dummy))\n",
    "print(\"\\nDecision tree:\")\n",
    "print(confusion_matrix(y_test, pred_tree))\n",
    "print(\"\\nLogistic Regression\")\n",
    "print(confusion_matrix(y_test, pred_logreg))"
   ]
  },
  {
   "cell_type": "markdown",
   "metadata": {},
   "source": [
    "### Ways to measure the accuracy of a confusion matrix\n",
    "\n",
    "* Relation to accuracy: Number of correct predictions divided by the number of samples\n",
    "* Precison (Positive predictive value): How many positives are marked as positives, used when we want to limit the number of false positives.\n",
    "* Recall: How many of the positive samples arecaptured by the positive predictions. Used when it is important to identify false negatives.\n",
    "\n",
    "Precision and recall might be the most used in binary classification, but there are others. (Check wikipedia)\n",
    "\n",
    "* f-score or f-measure: The harmonic mean of precision and recall:\n",
    "    * F = 2 * ((precision)(recall)) / (precision + recall)\n",
    "    \n",
    "Let us run the f-score on the 9 vs. rest dataset from above. In this case, there is a strong distinction between the DummyClassifier and the DecisionTree, which there wasn't with the accuracy alone. The f1_score is harder to explain than accuracy though."
   ]
  },
  {
   "cell_type": "code",
   "execution_count": 47,
   "metadata": {},
   "outputs": [
    {
     "name": "stdout",
     "output_type": "stream",
     "text": [
      "f1 score most frequent: 0.00\n",
      "f1 score dummy: 0.09\n",
      "f1 score tree: 0.55\n",
      "f1 score logistic regression: 0.89\n"
     ]
    }
   ],
   "source": [
    "from sklearn.metrics import f1_score\n",
    "print('f1 score most frequent: {:.2f}'.format(f1_score(y_test, pred_most_frequent)))\n",
    "print(\"f1 score dummy: {:.2f}\".format(f1_score(y_test, pred_dummy)))\n",
    "print(\"f1 score tree: {:.2f}\".format(f1_score(y_test, pred_tree)))\n",
    "print(\"f1 score logistic regression: {:.2f}\".format(f1_score(y_test, pred_logreg)))"
   ]
  },
  {
   "cell_type": "markdown",
   "metadata": {},
   "source": [
    "Fortunately, scikit learn has a nice tool to calculate precison, recall adn f1_score at the same time.\n",
    "\n",
    "The support column tells us the number of samples in a class according to the ground truth."
   ]
  },
  {
   "cell_type": "code",
   "execution_count": 48,
   "metadata": {},
   "outputs": [
    {
     "name": "stdout",
     "output_type": "stream",
     "text": [
      "              precision    recall  f1-score   support\n",
      "\n",
      "    Not nine       0.90      1.00      0.94       403\n",
      "        Nine       0.00      0.00      0.00        47\n",
      "\n",
      "   micro avg       0.90      0.90      0.90       450\n",
      "   macro avg       0.45      0.50      0.47       450\n",
      "weighted avg       0.80      0.90      0.85       450\n",
      "\n"
     ]
    }
   ],
   "source": [
    "from sklearn.metrics import classification_report\n",
    "print(classification_report(y_test, pred_most_frequent, target_names = [\"Not nine\", 'Nine']))"
   ]
  },
  {
   "cell_type": "code",
   "execution_count": 49,
   "metadata": {},
   "outputs": [
    {
     "name": "stdout",
     "output_type": "stream",
     "text": [
      "              precision    recall  f1-score   support\n",
      "\n",
      "    not nine       0.89      0.90      0.89       403\n",
      "        nine       0.09      0.09      0.09        47\n",
      "\n",
      "   micro avg       0.81      0.81      0.81       450\n",
      "   macro avg       0.49      0.49      0.49       450\n",
      "weighted avg       0.81      0.81      0.81       450\n",
      "\n"
     ]
    }
   ],
   "source": [
    "print(classification_report(y_test, pred_dummy,\n",
    "                            target_names=[\"not nine\", \"nine\"]))"
   ]
  },
  {
   "cell_type": "code",
   "execution_count": 50,
   "metadata": {},
   "outputs": [
    {
     "name": "stdout",
     "output_type": "stream",
     "text": [
      "              precision    recall  f1-score   support\n",
      "\n",
      "    not nine       0.98      1.00      0.99       403\n",
      "        nine       0.95      0.83      0.89        47\n",
      "\n",
      "   micro avg       0.98      0.98      0.98       450\n",
      "   macro avg       0.97      0.91      0.94       450\n",
      "weighted avg       0.98      0.98      0.98       450\n",
      "\n"
     ]
    }
   ],
   "source": [
    "print(classification_report(y_test, pred_logreg,\n",
    "                            target_names=[\"not nine\", \"nine\"]))"
   ]
  },
  {
   "cell_type": "markdown",
   "metadata": {},
   "source": [
    "The results depend very much on whether you use one class or another as the true positive. For example, in the dummy classification we get an f1 score of .9 when using the not nine as the positive class but a 0.05 when using the nine as the positive class.\n",
    "\n",
    "However, looking at all the numbers, the Logistic Regression seems to perform quite better."
   ]
  },
  {
   "cell_type": "markdown",
   "metadata": {},
   "source": [
    "### Taking uncertainty into account\n",
    "\n",
    "Making predictions can be seen as putting a threshold in the output of the decision functon and the predict proba function.\n",
    "\n",
    "\n",
    "The decision function will take negative and positive values to predict the negative or positive class, we make the threshold 0.\n",
    "\n",
    "Predict proba will output a probability that a sample belongs to a class. We threshold it at 0.5.\n",
    "\n",
    "The following example has 400 samples in the negative class and 50 in the positive class. With an SVC que can get the decisions using different thersholds for the decision function."
   ]
  },
  {
   "cell_type": "code",
   "execution_count": 51,
   "metadata": {},
   "outputs": [],
   "source": [
    "X, y = make_blobs(n_samples=(400, 50), cluster_std=[7.0, 2],\n",
    "                  random_state=22)\n",
    "X_train, X_test, y_train, y_test = train_test_split(X, y, random_state=0)\n",
    "svc = SVC(gamma=.05).fit(X_train, y_train)"
   ]
  },
  {
   "cell_type": "code",
   "execution_count": 52,
   "metadata": {},
   "outputs": [
    {
     "data": {
      "image/png": "[encoded data removed]",
      "text/plain": [
       "<Figure size 1080x576 with 6 Axes>"
      ]
     },
     "metadata": {},
     "output_type": "display_data"
    }
   ],
   "source": [
    "mglearn.plots.plot_decision_threshold()"
   ]
  },
  {
   "cell_type": "code",
   "execution_count": 53,
   "metadata": {},
   "outputs": [
    {
     "name": "stdout",
     "output_type": "stream",
     "text": [
      "              precision    recall  f1-score   support\n",
      "\n",
      "           0       0.97      0.89      0.93       104\n",
      "           1       0.35      0.67      0.46         9\n",
      "\n",
      "   micro avg       0.88      0.88      0.88       113\n",
      "   macro avg       0.66      0.78      0.70       113\n",
      "weighted avg       0.92      0.88      0.89       113\n",
      "\n"
     ]
    }
   ],
   "source": [
    "print(classification_report(y_test, svc.predict(X_test)))"
   ]
  },
  {
   "cell_type": "markdown",
   "metadata": {},
   "source": [
    "We can get different results by changing the value of the threshold."
   ]
  },
  {
   "cell_type": "code",
   "execution_count": 54,
   "metadata": {},
   "outputs": [],
   "source": [
    "y_pred_lower_threshold = svc.decision_function(X_test) > -.8"
   ]
  },
  {
   "cell_type": "code",
   "execution_count": 55,
   "metadata": {},
   "outputs": [
    {
     "name": "stdout",
     "output_type": "stream",
     "text": [
      "              precision    recall  f1-score   support\n",
      "\n",
      "           0       1.00      0.82      0.90       104\n",
      "           1       0.32      1.00      0.49         9\n",
      "\n",
      "   micro avg       0.83      0.83      0.83       113\n",
      "   macro avg       0.66      0.91      0.69       113\n",
      "weighted avg       0.95      0.83      0.87       113\n",
      "\n"
     ]
    }
   ],
   "source": [
    "print(classification_report(y_test, y_pred_lower_threshold))"
   ]
  },
  {
   "cell_type": "markdown",
   "metadata": {},
   "source": [
    "If we value precision over recall or viceversa, the easiest way to obtain better results is to change the threshold for the classification. As the numbers used in precision function can be arbitrary, it is hard to establish the threshold.\n",
    "\n",
    "#### Note:\n",
    "Do not do the last thing with the test-set try using a validation set or cross-validation."
   ]
  },
  {
   "cell_type": "markdown",
   "metadata": {},
   "source": [
    "Moving the thershold of predict_proba is actually easier, as its output is fixed from 0 to 1. The closer to 1 that the the output of predict_proba is, the more sure the algorithm is to classify a sample as the positive class."
   ]
  },
  {
   "cell_type": "markdown",
   "metadata": {},
   "source": [
    "### Precision recall curves and ROC curves\n",
    "\n",
    "Setting a requirement on a classifier like 90% recall is called setting the operating point. This can help to make performance guarantees to customers or other stakeholders.\n",
    "\n",
    "To look at all possible thersholds for predict_proba and the decision_function at once one can use the precission_recall_curve.\n",
    "It needs the ground truth labeling and the predicted uncertainties of either the decision_function or the predict_proba.\n",
    "\n",
    "The precision_recall_curve returns a list of precision and recall values for all possible thresholds (all values that appear in the decision function)"
   ]
  },
  {
   "cell_type": "code",
   "execution_count": 56,
   "metadata": {},
   "outputs": [],
   "source": [
    "from sklearn.metrics import precision_recall_curve\n",
    "precision, recall, thresholds = precision_recall_curve(y_test, svc.decision_function(X_test))"
   ]
  },
  {
   "cell_type": "markdown",
   "metadata": {},
   "source": [
    "Each point in the following graph corresponds to a possible threshold of the decision_function. We can see in ther that we can achieve a recall of 0.4 with a precision of about 0.75. \n",
    "\n",
    "The closer the curve is to the top right corner, the better the predictor is.\n",
    "\n",
    "The better the model keeps a high recall as the precision goes up as well, the better. At the top, we can see that we can keep increasing the precision without affecting that much the recall, but afterwards, increasing the precision affects a lot the recall."
   ]
  },
  {
   "cell_type": "code",
   "execution_count": 57,
   "metadata": {},
   "outputs": [
    {
     "data": {
      "image/png": "[encoded data removed]",
      "text/plain": [
       "<Figure size 1008x576 with 1 Axes>"
      ]
     },
     "metadata": {
      "needs_background": "light"
     },
     "output_type": "display_data"
    }
   ],
   "source": [
    "# Use more data points for a smoother curve\n",
    "X, y = make_blobs(n_samples=(4000, 500), cluster_std=[7.0, 2], random_state=22)\n",
    "X_train, X_test, y_train, y_test = train_test_split(X, y, random_state=0)\n",
    "svc = SVC(gamma=.05).fit(X_train, y_train)\n",
    "precision, recall, thresholds = precision_recall_curve(\n",
    "    y_test, svc.decision_function(X_test))\n",
    "# find threshold closest to zero\n",
    "close_zero = np.argmin(np.abs(thresholds))\n",
    "plt.figure(figsize = (14,8))\n",
    "plt.plot(precision[close_zero], recall[close_zero], 'o', markersize=10,\n",
    "         label=\"threshold zero\", fillstyle=\"none\", c='k', mew=2)\n",
    "\n",
    "plt.plot(precision, recall, label=\"precision recall curve\")\n",
    "plt.xlabel(\"Precision\")\n",
    "plt.ylabel(\"Recall\")\n",
    "plt.legend(loc=\"best\")\n",
    "plt.show()"
   ]
  },
  {
   "cell_type": "markdown",
   "metadata": {},
   "source": [
    "Different models will perform different with different thresholds. Let's try with RandomForests, which uses predict_proba as it doesn't have the decision_function.\n",
    "\n",
    "The precision_recall_curve expects as its second argument a certaintyu measure for the positve class (class 1). The default threshold for pedict_proba is 0.5, so it is the one marked on the curve for the RandomForest."
   ]
  },
  {
   "cell_type": "code",
   "execution_count": 58,
   "metadata": {},
   "outputs": [
    {
     "data": {
      "image/png": "[encoded data removed]",
      "text/plain": [
       "<Figure size 1008x576 with 1 Axes>"
      ]
     },
     "metadata": {
      "needs_background": "light"
     },
     "output_type": "display_data"
    }
   ],
   "source": [
    "from sklearn.ensemble import RandomForestClassifier\n",
    "\n",
    "rf = RandomForestClassifier(n_estimators=100, random_state=0, max_features=2)\n",
    "rf.fit(X_train, y_train)\n",
    "\n",
    "# RandomForestClassifier has predict_proba, but not decision_function\n",
    "precision_rf, recall_rf, thresholds_rf = precision_recall_curve(\n",
    "    y_test, rf.predict_proba(X_test)[:, 1])\n",
    "plt.figure(figsize = (14,8))\n",
    "plt.plot(precision, recall, label=\"svc\")\n",
    "\n",
    "plt.plot(precision[close_zero], recall[close_zero], 'o', markersize=10,\n",
    "         label=\"threshold zero svc\", fillstyle=\"none\", c='k', mew=2)\n",
    "\n",
    "plt.plot(precision_rf, recall_rf, label=\"rf\")\n",
    "\n",
    "close_default_rf = np.argmin(np.abs(thresholds_rf - 0.5))\n",
    "plt.plot(precision_rf[close_default_rf], recall_rf[close_default_rf], '^', c='k',\n",
    "         markersize=10, label=\"threshold 0.5 rf\", fillstyle=\"none\", mew=2)\n",
    "plt.xlabel(\"Precision\")\n",
    "plt.ylabel(\"Recall\")\n",
    "plt.legend(loc=\"best\")\n",
    "\n",
    "plt.show()"
   ]
  },
  {
   "cell_type": "markdown",
   "metadata": {},
   "source": [
    "Looking at these graphs is important because by using only the f1_score we can miss all this, as it only tells us the performance at the default thresholds.\n",
    "\n",
    "By looking at the graphs we can see that the RF performs better at the extremes, while the SVC performs better at the center."
   ]
  },
  {
   "cell_type": "code",
   "execution_count": 59,
   "metadata": {},
   "outputs": [
    {
     "name": "stdout",
     "output_type": "stream",
     "text": [
      "f1_score of random forest: 0.610\n",
      "f1_score of svc: 0.656\n"
     ]
    }
   ],
   "source": [
    "print(\"f1_score of random forest: {:.3f}\".format(\n",
    "    f1_score(y_test, rf.predict(X_test))))\n",
    "print(\"f1_score of svc: {:.3f}\".format(f1_score(y_test, svc.predict(X_test))))"
   ]
  },
  {
   "cell_type": "markdown",
   "metadata": {},
   "source": [
    "To compare in a more automatic way the two models, the area under the precision_recall_curve can be calculated with the average_precision_curve in scikit learn. \n",
    "\n",
    "We need to pass to average_precision_curve the output of either predict_proba or the decision_function, in order to consider multiple thersholds."
   ]
  },
  {
   "cell_type": "code",
   "execution_count": 60,
   "metadata": {},
   "outputs": [
    {
     "name": "stdout",
     "output_type": "stream",
     "text": [
      "Average precision score of Random Forest: 0.660\n",
      "Average precision score of SVC: 0.666\n"
     ]
    }
   ],
   "source": [
    "from sklearn.metrics import average_precision_score\n",
    "\n",
    "ap_rf = average_precision_score(y_test, rf.predict_proba(X_test)[:,1])\n",
    "ap_svc = average_precision_score(y_test, svc.decision_function(X_test))\n",
    "print('Average precision score of Random Forest: {:.3f}'.format(ap_rf))\n",
    "print('Average precision score of SVC: {:.3f}'.format(ap_svc))"
   ]
  },
  {
   "cell_type": "markdown",
   "metadata": {},
   "source": [
    "### Receiver Operating Characteristics (ROC) and AUC\n",
    "\n",
    "The ROC shows all the possible thresholds for a classifier, but it compares de False Positive Rate (FPR) against the True Positive Rate (TPR).\n",
    "\n",
    "FPR = FP/(FP + TN)\n",
    "\n",
    "TPR (or Recal) = TP / (TP + FN)\n",
    "\n"
   ]
  },
  {
   "cell_type": "code",
   "execution_count": 62,
   "metadata": {},
   "outputs": [
    {
     "data": {
      "image/png": "[encoded data removed]",
      "text/plain": [
       "<Figure size 1008x576 with 1 Axes>"
      ]
     },
     "metadata": {
      "needs_background": "light"
     },
     "output_type": "display_data"
    }
   ],
   "source": [
    "from sklearn.metrics import roc_curve\n",
    "fpr, tpr, thresholds = roc_curve(y_test, svc.decision_function(X_test))\n",
    "\n",
    "plt.figure(figsize = (14,8))\n",
    "plt.plot(fpr, tpr, label=\"ROC Curve\")\n",
    "plt.xlabel(\"FPR\")\n",
    "plt.ylabel(\"TPR (recall)\")\n",
    "# find threshold closest to zero\n",
    "close_zero = np.argmin(np.abs(thresholds))\n",
    "plt.plot(fpr[close_zero], tpr[close_zero], 'o', markersize=10,\n",
    "         label=\"threshold zero\", fillstyle=\"none\", c='k', mew=2)\n",
    "plt.legend(loc=4)\n",
    "plt.show()"
   ]
  },
  {
   "cell_type": "markdown",
   "metadata": {},
   "source": [
    "The idealfor the ROC curve is in the upper-left, as we want a high recall while keeping a low fals epositive rate.\n",
    "\n",
    "We can get a better recall, about 0.9, without increasing so much the FPR by using a different threshold. Again, choose the threshold with a validation set, not with the test set.\n",
    "\n",
    "Comparison of SVC against Random Forest:"
   ]
  },
  {
   "cell_type": "code",
   "execution_count": 63,
   "metadata": {},
   "outputs": [
    {
     "data": {
      "image/png": "[encoded data removed]",
      "text/plain": [
       "<Figure size 1008x576 with 1 Axes>"
      ]
     },
     "metadata": {
      "needs_background": "light"
     },
     "output_type": "display_data"
    }
   ],
   "source": [
    "fpr_rf, tpr_rf, thresholds_rf = roc_curve(y_test, rf.predict_proba(X_test)[:, 1])\n",
    "\n",
    "plt.figure(figsize = (14,8))\n",
    "plt.plot(fpr, tpr, label=\"ROC Curve SVC\")\n",
    "plt.plot(fpr_rf, tpr_rf, label=\"ROC Curve RF\")\n",
    "\n",
    "plt.xlabel(\"FPR\")\n",
    "plt.ylabel(\"TPR (recall)\")\n",
    "plt.plot(fpr[close_zero], tpr[close_zero], 'o', markersize=10,\n",
    "         label=\"threshold zero SVC\", fillstyle=\"none\", c='k', mew=2)\n",
    "close_default_rf = np.argmin(np.abs(thresholds_rf - 0.5))\n",
    "plt.plot(fpr_rf[close_default_rf], tpr[close_default_rf], '^', markersize=10,\n",
    "         label=\"threshold 0.5 RF\", fillstyle=\"none\", c='k', mew=2)\n",
    "\n",
    "plt.legend(loc=4)\n",
    "plt.show()"
   ]
  },
  {
   "cell_type": "markdown",
   "metadata": {},
   "source": [
    "We can also compare ROC curves with the area under the curve by using the roc_auc_score function"
   ]
  },
  {
   "cell_type": "code",
   "execution_count": 64,
   "metadata": {},
   "outputs": [
    {
     "name": "stdout",
     "output_type": "stream",
     "text": [
      "AUC for Random Forest: 0.937\n",
      "AUC for SVC: 0.916\n"
     ]
    }
   ],
   "source": [
    "from sklearn.metrics import roc_auc_score\n",
    "rf_auc = roc_auc_score(y_test, rf.predict_proba(X_test)[:, 1])\n",
    "svc_auc = roc_auc_score(y_test, svc.decision_function(X_test))\n",
    "print(\"AUC for Random Forest: {:.3f}\".format(rf_auc))\n",
    "print(\"AUC for SVC: {:.3f}\".format(svc_auc))"
   ]
  },
  {
   "cell_type": "markdown",
   "metadata": {},
   "source": [
    "While working with imbalanced models, the Area Under the Curve (AUC) is often a much better performance indicator than the accuracy.\n",
    "\n",
    "The AUC results is the probability that a randomly picked point of the positive class will have a higher score according to the classifier than a randomly picked point from the negative class.\n",
    "\n",
    "Now we can calculate the ROC for differnt values of gamma with the 9 and not nine dataset"
   ]
  },
  {
   "cell_type": "code",
   "execution_count": 66,
   "metadata": {},
   "outputs": [
    {
     "name": "stdout",
     "output_type": "stream",
     "text": [
      "gamma = 1.00  accuracy = 0.90  AUC = 0.50\n",
      "gamma = 0.05  accuracy = 0.90  AUC = 1.00\n",
      "gamma = 0.01  accuracy = 0.90  AUC = 1.00\n"
     ]
    },
    {
     "data": {
      "image/png": "[encoded data removed]",
      "text/plain": [
       "<Figure size 1008x576 with 1 Axes>"
      ]
     },
     "metadata": {
      "needs_background": "light"
     },
     "output_type": "display_data"
    }
   ],
   "source": [
    "y = digits.target == 9\n",
    "\n",
    "X_train, X_test, y_train, y_test = train_test_split(\n",
    "    digits.data, y, random_state=0)\n",
    "\n",
    "plt.figure(figsize = (14,8))\n",
    "\n",
    "for gamma in [1, 0.05, 0.01]:\n",
    "    svc = SVC(gamma=gamma).fit(X_train, y_train)\n",
    "    accuracy = svc.score(X_test, y_test)\n",
    "    auc = roc_auc_score(y_test, svc.decision_function(X_test))\n",
    "    fpr, tpr, _ = roc_curve(y_test , svc.decision_function(X_test))\n",
    "    print(\"gamma = {:.2f}  accuracy = {:.2f}  AUC = {:.2f}\".format(\n",
    "          gamma, accuracy, auc))\n",
    "    plt.plot(fpr, tpr, label=\"gamma={:.3f}\".format(gamma))\n",
    "plt.xlabel(\"FPR\")\n",
    "plt.ylabel(\"TPR\")\n",
    "plt.xlim(-0.01, 1)\n",
    "plt.ylim(0, 1.02)\n",
    "plt.legend(loc=\"best\")\n",
    "plt.show()"
   ]
  },
  {
   "cell_type": "markdown",
   "metadata": {},
   "source": [
    "The accuracy is the same for the three values of gamma, but we can see that the AUC is actually different for the three of them. \n",
    "With gamma = 1 we can see that the AUC is 0.5, that is basically the same as chossing randomly.\n",
    "\n",
    "With gamma = 0.01, with AUC = 1 we can conclude that all positive points are ranked higher than all negative points according to the decision_function.\n",
    "\n",
    "Now we can tune the model to the threshold corresponding to the upper left corner, using only the accuracy this would have never been possible."
   ]
  },
  {
   "cell_type": "markdown",
   "metadata": {},
   "source": [
    "## Metrics for Multiclass Classification\n",
    "\n",
    "All metrics for multiclass classification are derived from the binary classification ones. Again, the accuracy is defined as the fraction of correctly classified samples and when the dataset is imbalanced, accuracy is not that great of a metric.\n",
    "\n",
    "Let's calculate the confusion matrix for classifying the digits in the digits dataset."
   ]
  },
  {
   "cell_type": "code",
   "execution_count": 67,
   "metadata": {},
   "outputs": [
    {
     "name": "stdout",
     "output_type": "stream",
     "text": [
      "Accuracy: 0.953\n",
      "Confusion matrix:\n",
      "[[37  0  0  0  0  0  0  0  0  0]\n",
      " [ 0 39  0  0  0  0  2  0  2  0]\n",
      " [ 0  0 41  3  0  0  0  0  0  0]\n",
      " [ 0  0  1 43  0  0  0  0  0  1]\n",
      " [ 0  0  0  0 38  0  0  0  0  0]\n",
      " [ 0  1  0  0  0 47  0  0  0  0]\n",
      " [ 0  0  0  0  0  0 52  0  0  0]\n",
      " [ 0  1  0  1  1  0  0 45  0  0]\n",
      " [ 0  3  1  0  0  0  0  0 43  1]\n",
      " [ 0  0  0  1  0  1  0  0  1 44]]\n"
     ]
    }
   ],
   "source": [
    "from sklearn.metrics import accuracy_score\n",
    "X_train, X_test, y_train, y_test = train_test_split(\n",
    "    digits.data, digits.target, random_state=0)\n",
    "lr = LogisticRegression().fit(X_train, y_train)\n",
    "pred = lr.predict(X_test)\n",
    "print(\"Accuracy: {:.3f}\".format(accuracy_score(y_test, pred)))\n",
    "print(\"Confusion matrix:\\n{}\".format(confusion_matrix(y_test, pred)))"
   ]
  },
  {
   "cell_type": "code",
   "execution_count": 68,
   "metadata": {},
   "outputs": [
    {
     "data": {
      "image/png": "[encoded data removed]",
      "text/plain": [
       "<Figure size 432x288 with 1 Axes>"
      ]
     },
     "metadata": {
      "needs_background": "light"
     },
     "output_type": "display_data"
    }
   ],
   "source": [
    "scores_image = mglearn.tools.heatmap(\n",
    "    confusion_matrix(y_test, pred), xlabel='Predicted label',\n",
    "    ylabel='True label', xticklabels=digits.target_names,\n",
    "    yticklabels=digits.target_names, cmap=plt.cm.gray_r, fmt=\"%d\")\n",
    "plt.title(\"Confusion matrix\")\n",
    "plt.gca().invert_yaxis()"
   ]
  },
  {
   "cell_type": "markdown",
   "metadata": {},
   "source": [
    "For the first class, the 0, there are 37 samples and all are correctly classified as all other spaces in the first row are 0. We can also see that no other class was mistakenly classified as 0, because all other entries in the first column are 0 (No false positives for class 0).\n",
    "In the third row though, 3 number two were classified as the digit 3 (fourth column), there is also one digit three classified as two and one digit 8 classified as 2.\n",
    "\n",
    "With the classification report, we can compute the precision, recall and f1 score for each class"
   ]
  },
  {
   "cell_type": "code",
   "execution_count": 69,
   "metadata": {},
   "outputs": [
    {
     "name": "stdout",
     "output_type": "stream",
     "text": [
      "              precision    recall  f1-score   support\n",
      "\n",
      "           0       1.00      1.00      1.00        37\n",
      "           1       0.89      0.91      0.90        43\n",
      "           2       0.95      0.93      0.94        44\n",
      "           3       0.90      0.96      0.92        45\n",
      "           4       0.97      1.00      0.99        38\n",
      "           5       0.98      0.98      0.98        48\n",
      "           6       0.96      1.00      0.98        52\n",
      "           7       1.00      0.94      0.97        48\n",
      "           8       0.93      0.90      0.91        48\n",
      "           9       0.96      0.94      0.95        47\n",
      "\n",
      "   micro avg       0.95      0.95      0.95       450\n",
      "   macro avg       0.95      0.95      0.95       450\n",
      "weighted avg       0.95      0.95      0.95       450\n",
      "\n"
     ]
    }
   ],
   "source": [
    "print(classification_report(y_test, pred))"
   ]
  },
  {
   "cell_type": "markdown",
   "metadata": {},
   "source": [
    "The most common metric for imbalanced datasets in the multiclass setting is the multiclass version of the f-score. The idea is to compute one binary f-score for eac class, with that class being the positive and all the others making up the negative class. Then, these per-class f-scores are averaged using one of the following methods:\n",
    "\n",
    "* macro: computes the unweighted per-class f-scores, this gives equal weight to all classes no matter their size\n",
    "* weighted: the mean of the per-class f-scores, weighted by their support (number of elements in each class). This is what is reported in the classification_report\n",
    "* micro: computes the total number of false positives, false negatives, and true positives over all classes, and then computes precision, recall and f-score using these counts.\n",
    "\n",
    "If we care about each same equally much, it is recommended to use the \"micro\" f1-score, if the care about each class equally much, it is recommended to use the \"macro\" one."
   ]
  },
  {
   "cell_type": "code",
   "execution_count": 70,
   "metadata": {},
   "outputs": [
    {
     "name": "stdout",
     "output_type": "stream",
     "text": [
      "Micro average f1 score: 0.953\n",
      "Macro average f1 score: 0.954\n"
     ]
    }
   ],
   "source": [
    "print(\"Micro average f1 score: {:.3f}\".format(\n",
    "    f1_score(y_test, pred, average=\"micro\")))\n",
    "print(\"Macro average f1 score: {:.3f}\".format(\n",
    "    f1_score(y_test, pred, average=\"macro\")))"
   ]
  },
  {
   "cell_type": "markdown",
   "metadata": {},
   "source": [
    "## Regression Metrics\n",
    "\n",
    "Often using the R-squared in the score method is enough for evaluating regression models. Sometimes business decisions can be made on basis of the mean square error or mean absolute error, so models can be tuned through these metrics too."
   ]
  },
  {
   "cell_type": "markdown",
   "metadata": {},
   "source": [
    "## Using Evaluation Metrics in Model Selection\n",
    "\n",
    "We can change the metric in both GridSearchCV and cross_val_score with the scoring argument in both of them if we want to use another metric for the model rather than accuracy."
   ]
  },
  {
   "cell_type": "code",
   "execution_count": 72,
   "metadata": {},
   "outputs": [
    {
     "name": "stdout",
     "output_type": "stream",
     "text": [
      "Default scoring:  [0.9        0.9        0.89972145 0.89972145 0.89972145]\n",
      "Explicit accuracy scoring: [0.9        0.9        0.89972145 0.89972145 0.89972145]\n",
      "AUC scoring: [0.99674211 0.99725652 0.99552804 0.99836601 0.99165807]\n"
     ]
    }
   ],
   "source": [
    "print(\"Default scoring: \", cross_val_score(SVC(), digits[\"data\"], digits[\"target\"] == 9, cv = 5))\n",
    "\n",
    "# providing scoring=\"accuracy\" doesn't change the results\n",
    "explicit_accuracy =  cross_val_score(SVC(), digits.data, digits.target == 9,\n",
    "                                     scoring=\"accuracy\", cv=5)\n",
    "print(\"Explicit accuracy scoring: {}\".format(explicit_accuracy))\n",
    "\n",
    "# Using roc_auc in the socring actually changes the results\n",
    "roc_auc =  cross_val_score(SVC(), digits.data, digits.target == 9,\n",
    "                           scoring=\"roc_auc\", cv=5)\n",
    "print(\"AUC scoring: {}\".format(roc_auc))"
   ]
  },
  {
   "cell_type": "markdown",
   "metadata": {},
   "source": [
    "Using cross_validate we can compute several metrics at once:"
   ]
  },
  {
   "cell_type": "code",
   "execution_count": 73,
   "metadata": {},
   "outputs": [
    {
     "data": {
      "text/html": [
       "<div>\n",
       "<style scoped>\n",
       "    .dataframe tbody tr th:only-of-type {\n",
       "        vertical-align: middle;\n",
       "    }\n",
       "\n",
       "    .dataframe tbody tr th {\n",
       "        vertical-align: top;\n",
       "    }\n",
       "\n",
       "    .dataframe thead th {\n",
       "        text-align: right;\n",
       "    }\n",
       "</style>\n",
       "<table border=\"1\" class=\"dataframe\">\n",
       "  <thead>\n",
       "    <tr style=\"text-align: right;\">\n",
       "      <th></th>\n",
       "      <th>fit_time</th>\n",
       "      <th>score_time</th>\n",
       "      <th>test_accuracy</th>\n",
       "      <th>train_accuracy</th>\n",
       "      <th>test_roc_auc</th>\n",
       "      <th>train_roc_auc</th>\n",
       "      <th>test_recall_macro</th>\n",
       "      <th>train_recall_macro</th>\n",
       "    </tr>\n",
       "  </thead>\n",
       "  <tbody>\n",
       "    <tr>\n",
       "      <th>0</th>\n",
       "      <td>0.188156</td>\n",
       "      <td>0.109361</td>\n",
       "      <td>0.900000</td>\n",
       "      <td>1.0</td>\n",
       "      <td>0.996742</td>\n",
       "      <td>1.0</td>\n",
       "      <td>0.5</td>\n",
       "      <td>1.0</td>\n",
       "    </tr>\n",
       "    <tr>\n",
       "      <th>1</th>\n",
       "      <td>0.156210</td>\n",
       "      <td>0.121241</td>\n",
       "      <td>0.900000</td>\n",
       "      <td>1.0</td>\n",
       "      <td>0.997257</td>\n",
       "      <td>1.0</td>\n",
       "      <td>0.5</td>\n",
       "      <td>1.0</td>\n",
       "    </tr>\n",
       "    <tr>\n",
       "      <th>2</th>\n",
       "      <td>0.171832</td>\n",
       "      <td>0.122134</td>\n",
       "      <td>0.899721</td>\n",
       "      <td>1.0</td>\n",
       "      <td>0.995528</td>\n",
       "      <td>1.0</td>\n",
       "      <td>0.5</td>\n",
       "      <td>1.0</td>\n",
       "    </tr>\n",
       "    <tr>\n",
       "      <th>3</th>\n",
       "      <td>0.173514</td>\n",
       "      <td>0.093730</td>\n",
       "      <td>0.899721</td>\n",
       "      <td>1.0</td>\n",
       "      <td>0.998366</td>\n",
       "      <td>1.0</td>\n",
       "      <td>0.5</td>\n",
       "      <td>1.0</td>\n",
       "    </tr>\n",
       "    <tr>\n",
       "      <th>4</th>\n",
       "      <td>0.203079</td>\n",
       "      <td>0.124971</td>\n",
       "      <td>0.899721</td>\n",
       "      <td>1.0</td>\n",
       "      <td>0.991658</td>\n",
       "      <td>1.0</td>\n",
       "      <td>0.5</td>\n",
       "      <td>1.0</td>\n",
       "    </tr>\n",
       "  </tbody>\n",
       "</table>\n",
       "</div>"
      ],
      "text/plain": [
       "   fit_time  score_time  test_accuracy  train_accuracy  test_roc_auc  \\\n",
       "0  0.188156    0.109361       0.900000             1.0      0.996742   \n",
       "1  0.156210    0.121241       0.900000             1.0      0.997257   \n",
       "2  0.171832    0.122134       0.899721             1.0      0.995528   \n",
       "3  0.173514    0.093730       0.899721             1.0      0.998366   \n",
       "4  0.203079    0.124971       0.899721             1.0      0.991658   \n",
       "\n",
       "   train_roc_auc  test_recall_macro  train_recall_macro  \n",
       "0            1.0                0.5                 1.0  \n",
       "1            1.0                0.5                 1.0  \n",
       "2            1.0                0.5                 1.0  \n",
       "3            1.0                0.5                 1.0  \n",
       "4            1.0                0.5                 1.0  "
      ]
     },
     "metadata": {},
     "output_type": "display_data"
    }
   ],
   "source": [
    "res = cross_validate(SVC(), digits.data, digits.target == 9,\n",
    "                     scoring=[\"accuracy\", \"roc_auc\", \"recall_macro\"],\n",
    "                     return_train_score=True, cv=5)\n",
    "display(pd.DataFrame(res))"
   ]
  },
  {
   "cell_type": "markdown",
   "metadata": {},
   "source": [
    "We can also change the metric in GridSearchCV\n",
    "##### USE DEFAULT SCORING IN GREADSEARCH"
   ]
  },
  {
   "cell_type": "code",
   "execution_count": 74,
   "metadata": {},
   "outputs": [
    {
     "name": "stdout",
     "output_type": "stream",
     "text": [
      "Grid-Search with accuracy\n",
      "Best parameters: {'gamma': 0.0001}\n",
      "Best cross-validation score (accuracy)): 0.970\n",
      "Test set AUC: 0.992\n",
      "Test set accuracy: 0.973\n"
     ]
    }
   ],
   "source": [
    "X_train, X_test, y_train, y_test = train_test_split(\n",
    "    digits.data, digits.target == 9, random_state=0)\n",
    "\n",
    "# we provide a somewhat bad grid to illustrate the point:\n",
    "param_grid = {'gamma': [0.0001, 0.01, 0.1, 1, 10]}\n",
    "\n",
    "# using the default scoring of accuracy:\n",
    "grid = GridSearchCV(SVC(), param_grid=param_grid)\n",
    "grid.fit(X_train, y_train)\n",
    "print(\"Grid-Search with accuracy\")\n",
    "print(\"Best parameters:\", grid.best_params_)\n",
    "print(\"Best cross-validation score (accuracy)): {:.3f}\".format(grid.best_score_))\n",
    "print(\"Test set AUC: {:.3f}\".format(\n",
    "    roc_auc_score(y_test, grid.decision_function(X_test))))\n",
    "print(\"Test set accuracy: {:.3f}\".format(grid.score(X_test, y_test)))"
   ]
  },
  {
   "cell_type": "markdown",
   "metadata": {},
   "source": [
    "##### USE AUC SCORING INSTEAD"
   ]
  },
  {
   "cell_type": "code",
   "execution_count": 75,
   "metadata": {},
   "outputs": [
    {
     "name": "stdout",
     "output_type": "stream",
     "text": [
      "\n",
      "Grid-Search with AUC\n",
      "Best parameters: {'gamma': 0.01}\n",
      "Best cross-validation score (AUC): 0.997\n",
      "Test set AUC: 1.000\n",
      "Test set accuracy: 1.000\n"
     ]
    }
   ],
   "source": [
    "# using AUC scoring instead:\n",
    "grid = GridSearchCV(SVC(), param_grid=param_grid, scoring=\"roc_auc\")\n",
    "grid.fit(X_train, y_train)\n",
    "print(\"\\nGrid-Search with AUC\")\n",
    "print(\"Best parameters:\", grid.best_params_)\n",
    "print(\"Best cross-validation score (AUC): {:.3f}\".format(grid.best_score_))\n",
    "print(\"Test set AUC: {:.3f}\".format(\n",
    "    roc_auc_score(y_test, grid.decision_function(X_test))))\n",
    "print(\"Test set accuracy: {:.3f}\".format(grid.score(X_test, y_test)))"
   ]
  },
  {
   "cell_type": "markdown",
   "metadata": {},
   "source": [
    "##### USING AVERAGE PRECISION"
   ]
  },
  {
   "cell_type": "code",
   "execution_count": 77,
   "metadata": {},
   "outputs": [
    {
     "name": "stdout",
     "output_type": "stream",
     "text": [
      "\n",
      "Grid-Search with average precision\n",
      "Best parameters: {'gamma': 0.01}\n",
      "Best cross-validation score (AUC): 0.985\n",
      "Test set AUC: 1.000\n",
      "Test set accuracy: 0.996\n"
     ]
    }
   ],
   "source": [
    "# using AUC scoring instead:\n",
    "grid = GridSearchCV(SVC(), param_grid=param_grid, scoring=\"average_precision\")\n",
    "grid.fit(X_train, y_train)\n",
    "print(\"\\nGrid-Search with average precision\")\n",
    "print(\"Best parameters:\", grid.best_params_)\n",
    "print(\"Best cross-validation score (AUC): {:.3f}\".format(grid.best_score_))\n",
    "print(\"Test set AUC: {:.3f}\".format(\n",
    "    roc_auc_score(y_test, grid.decision_function(X_test))))\n",
    "print(\"Test set accuracy: {:.3f}\".format(grid.score(X_test, y_test)))"
   ]
  },
  {
   "cell_type": "markdown",
   "metadata": {},
   "source": [
    "With different metrics, different paremeters might be selected. In accuracy case gamma = 0.0001 was selected, in auc and average precision cases gamma = 0.01 were selected.\n",
    "\n",
    "#### Most relevant parameters for scoring parameter for classification\n",
    "* accuracy (the default)\n",
    "* roc_auc: area under the ROC curve\n",
    "* average_precision for the area unde the precision-recall curve\n",
    "* f1\n",
    "* f1_macro\n",
    "* f1_weighted\n",
    "\n",
    "#### Most relevant parameters for scoring parameter for regression\n",
    "* r2\n",
    "* mean_squared_error\n",
    "* mean_absolute_error\n",
    "\n",
    "A full list of supported arguments is in the sci-kit learn documentation"
   ]
  },
  {
   "cell_type": "code",
   "execution_count": 79,
   "metadata": {},
   "outputs": [
    {
     "name": "stdout",
     "output_type": "stream",
     "text": [
      "Available scorers:\n",
      "['accuracy', 'adjusted_mutual_info_score', 'adjusted_rand_score', 'average_precision', 'balanced_accuracy', 'brier_score_loss', 'completeness_score', 'explained_variance', 'f1', 'f1_macro', 'f1_micro', 'f1_samples', 'f1_weighted', 'fowlkes_mallows_score', 'homogeneity_score', 'mutual_info_score', 'neg_log_loss', 'neg_mean_absolute_error', 'neg_mean_squared_error', 'neg_mean_squared_log_error', 'neg_median_absolute_error', 'normalized_mutual_info_score', 'precision', 'precision_macro', 'precision_micro', 'precision_samples', 'precision_weighted', 'r2', 'recall', 'recall_macro', 'recall_micro', 'recall_samples', 'recall_weighted', 'roc_auc', 'v_measure_score']\n"
     ]
    }
   ],
   "source": [
    "from sklearn.metrics.scorer import SCORERS\n",
    "print(\"Available scorers:\")\n",
    "print(sorted(SCORERS.keys()))"
   ]
  },
  {
   "cell_type": "code",
   "execution_count": null,
   "metadata": {},
   "outputs": [],
   "source": []
  }
 ],
 "metadata": {
  "kernelspec": {
   "display_name": "Python 3",
   "language": "python",
   "name": "python3"
  },
  "language_info": {
   "codemirror_mode": {
    "name": "ipython",
    "version": 3
   },
   "file_extension": ".py",
   "mimetype": "text/x-python",
   "name": "python",
   "nbconvert_exporter": "python",
   "pygments_lexer": "ipython3",
   "version": "3.7.1"
  }
 },
 "nbformat": 4,
 "nbformat_minor": 2
}
